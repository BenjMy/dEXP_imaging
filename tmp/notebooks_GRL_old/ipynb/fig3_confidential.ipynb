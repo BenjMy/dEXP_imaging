{
 "cells": [
  {
   "cell_type": "markdown",
   "id": "completed-latitude",
   "metadata": {
    "iooxa": {
     "id": {
      "block": "CSaicUmNFJAw7PvCtnx7",
      "project": "GIJhmq4sVzNS98jxv097",
      "version": 1
     }
    }
   },
   "source": [
    "# Notebook to reproduce fig. 3 of the DEXP manuscript"
   ]
  },
  {
   "cell_type": "code",
   "execution_count": 1,
   "id": "super-mouth",
   "metadata": {
    "iooxa": {
     "id": {
      "block": "N8uuMpUxH4fGgWZMwEwh",
      "project": "GIJhmq4sVzNS98jxv097",
      "version": 1
     },
     "outputId": {
      "block": "KkI6FB6WNqTkv2YmF2Yv",
      "project": "GIJhmq4sVzNS98jxv097",
      "version": 1
     }
    }
   },
   "outputs": [],
   "source": [
    "# clone github\n",
    "#!pip install git+https://github.com/BenjMy/dEXP_imaging"
   ]
  },
  {
   "cell_type": "code",
   "execution_count": 2,
   "id": "e709d159-d7a9-4ca0-9e94-2f774f596826",
   "metadata": {
    "iooxa": {
     "id": {
      "block": "N8uuMpUxH4fGgWZMwEwh",
      "project": "GIJhmq4sVzNS98jxv097",
      "version": 3
     },
     "outputId": {
      "block": "KkI6FB6WNqTkv2YmF2Yv",
      "project": "GIJhmq4sVzNS98jxv097",
      "version": 3
     }
    }
   },
   "outputs": [
    {
     "name": "stdout",
     "output_type": "stream",
     "text": [
      "Collecting git+https://github.com/BenjMy/dEXP_imaging\n",
      "  Cloning https://github.com/BenjMy/dEXP_imaging to /tmp/pip-req-build-kyww7enu\n",
      "  Running command git clone -q https://github.com/BenjMy/dEXP_imaging /tmp/pip-req-build-kyww7enu\n",
      "  Resolved https://github.com/BenjMy/dEXP_imaging to commit c6b9865890e53680a9fbca5aa6cefa5bff8c43da\n"
     ]
    }
   ],
   "source": [
    "# clone github\n",
    "!pip install git+https://github.com/BenjMy/dEXP_imaging\n",
    "import numpy as np\n",
    "import matplotlib.pyplot as plt"
   ]
  },
  {
   "cell_type": "code",
   "execution_count": 3,
   "id": "71c9a795-3c6c-494b-a371-e9c6d4402cbb",
   "metadata": {},
   "outputs": [],
   "source": [
    "# Tweak the figure style\n",
    "from matplotlib.ticker import FormatStrFormatter\n",
    "plt.rcParams['font.size'] = 15\n",
    "# Tweak the figure style\n",
    "plt.rcParams.update({\n",
    "    'ytick.labelsize': 'small',\n",
    "    'xtick.labelsize': 'small',\n",
    "    'axes.labelsize': 'small',\n",
    "    'axes.titlesize': 'medium',\n",
    "    'grid.color': '0.75',\n",
    "    'grid.linestyle': ':',\n",
    "})\n",
    "import os\n",
    "os.chdir('../')"
   ]
  },
  {
   "cell_type": "code",
   "execution_count": 9,
   "id": "inner-horror",
   "metadata": {
    "iooxa": {
     "id": {
      "block": "tnMog4uMbUrjoHpfcnV2",
      "project": "GIJhmq4sVzNS98jxv097",
      "version": 1
     },
     "outputId": {
      "block": "cXoH7V3j1PbFz5Zh6wQg",
      "project": "GIJhmq4sVzNS98jxv097",
      "version": 1
     }
    }
   },
   "outputs": [
    {
     "ename": "ModuleNotFoundError",
     "evalue": "No module named 'lib.tools'",
     "output_type": "error",
     "traceback": [
      "\u001b[0;31m---------------------------------------------------------------------------\u001b[0m",
      "\u001b[0;31mModuleNotFoundError\u001b[0m                       Traceback (most recent call last)",
      "\u001b[0;32m/tmp/ipykernel_368412/1816996546.py\u001b[0m in \u001b[0;36m<module>\u001b[0;34m\u001b[0m\n\u001b[1;32m     14\u001b[0m \u001b[0;34m\u001b[0m\u001b[0m\n\u001b[1;32m     15\u001b[0m \u001b[0;32mimport\u001b[0m \u001b[0mnotebooks_GRL\u001b[0m\u001b[0;34m.\u001b[0m\u001b[0mload_MALM_model\u001b[0m \u001b[0;32mas\u001b[0m \u001b[0mMALMmod\u001b[0m\u001b[0;34m\u001b[0m\u001b[0;34m\u001b[0m\u001b[0m\n\u001b[0;32m---> 16\u001b[0;31m \u001b[0;32mimport\u001b[0m \u001b[0mnotebooks_GRL\u001b[0m\u001b[0;34m.\u001b[0m\u001b[0mload_MALM_real\u001b[0m \u001b[0;32mas\u001b[0m \u001b[0mMALMreal\u001b[0m\u001b[0;34m\u001b[0m\u001b[0;34m\u001b[0m\u001b[0m\n\u001b[0m\u001b[1;32m     17\u001b[0m \u001b[0;32mimport\u001b[0m \u001b[0mlib\u001b[0m\u001b[0;34m.\u001b[0m\u001b[0mset_parameters\u001b[0m \u001b[0;32mas\u001b[0m \u001b[0mpara\u001b[0m\u001b[0;34m\u001b[0m\u001b[0;34m\u001b[0m\u001b[0m\n\u001b[1;32m     18\u001b[0m \u001b[0;34m\u001b[0m\u001b[0m\n",
      "\u001b[0;32m~/Documents/GitHub/BenjMy/dEXP_imaging/notebooks_GRL/load_MALM_real.py\u001b[0m in \u001b[0;36m<module>\u001b[0;34m\u001b[0m\n\u001b[1;32m     12\u001b[0m \u001b[0;32mimport\u001b[0m \u001b[0mlib\u001b[0m\u001b[0;34m.\u001b[0m\u001b[0mutils_dEXP\u001b[0m \u001b[0;32mas\u001b[0m \u001b[0muEXP\u001b[0m\u001b[0;34m\u001b[0m\u001b[0;34m\u001b[0m\u001b[0m\n\u001b[1;32m     13\u001b[0m \u001b[0;32mimport\u001b[0m \u001b[0mlib\u001b[0m\u001b[0;34m.\u001b[0m\u001b[0mplot_dEXP\u001b[0m \u001b[0;32mas\u001b[0m \u001b[0mpEXP\u001b[0m\u001b[0;34m\u001b[0m\u001b[0;34m\u001b[0m\u001b[0m\n\u001b[0;32m---> 14\u001b[0;31m \u001b[0;32mimport\u001b[0m \u001b[0mlib\u001b[0m\u001b[0;34m.\u001b[0m\u001b[0mtools\u001b[0m\u001b[0;34m.\u001b[0m\u001b[0mrotate\u001b[0m \u001b[0;32mas\u001b[0m \u001b[0mrotate\u001b[0m\u001b[0;34m\u001b[0m\u001b[0;34m\u001b[0m\u001b[0m\n\u001b[0m\u001b[1;32m     15\u001b[0m \u001b[0;32mimport\u001b[0m \u001b[0mos\u001b[0m\u001b[0;34m\u001b[0m\u001b[0;34m\u001b[0m\u001b[0m\n\u001b[1;32m     16\u001b[0m \u001b[0;34m\u001b[0m\u001b[0m\n",
      "\u001b[0;31mModuleNotFoundError\u001b[0m: No module named 'lib.tools'"
     ]
    }
   ],
   "source": [
    "import os\n",
    "import pickle\n",
    "\n",
    "from fatiando.vis import mpl #, myv\n",
    "from fatiando import gridder, mesher, utils\n",
    "from fatiando.gravmag import prism, imaging, transform\n",
    "from fatiando.vis.mpl import square\n",
    "\n",
    "# my own functions\n",
    "import lib.dEXP as dEXP\n",
    "from lib.dEXP import _fit\n",
    "import lib.plot_dEXP as pEXP\n",
    "import lib.utils_dEXP as uEXP\n",
    "\n",
    "import notebooks_GRL.load_MALM_model as MALMmod\n",
    "import notebooks_GRL.load_MALM_real as MALMreal\n",
    "import lib.set_parameters as para\n",
    "\n",
    "import numpy as np\n",
    "import matplotlib.pyplot as plt\n",
    "plt.rcParams['font.size'] = 15\n",
    "\n",
    "# icsd functions\n",
    "from importers.read import load_obs, load_geom"
   ]
  },
  {
   "cell_type": "code",
   "execution_count": 13,
   "id": "74926f47-12b3-4576-9e4c-c4a7d319c938",
   "metadata": {},
   "outputs": [
    {
     "data": {
      "text/plain": [
       "'/home/ben/Documents/GitHub/BenjMy/dEXP_imaging'"
      ]
     },
     "execution_count": 13,
     "metadata": {},
     "output_type": "execute_result"
    }
   ],
   "source": [
    "os.getcwd()"
   ]
  },
  {
   "cell_type": "code",
   "execution_count": 14,
   "id": "liquid-theology",
   "metadata": {},
   "outputs": [
    {
     "name": "stdout",
     "output_type": "stream",
     "text": [
      "load./notebooks_GRL/data/phNO/NoAno_uz0_grid.dat\n",
      "90000\n",
      "90000\n",
      "90000\n"
     ]
    },
    {
     "ename": "NameError",
     "evalue": "name 'para' is not defined",
     "output_type": "error",
     "traceback": [
      "\u001b[0;31m---------------------------------------------------------------------------\u001b[0m",
      "\u001b[0;31mNameError\u001b[0m                                 Traceback (most recent call last)",
      "\u001b[0;32m/tmp/ipykernel_368412/167935653.py\u001b[0m in \u001b[0;36m<module>\u001b[0;34m\u001b[0m\n\u001b[1;32m     36\u001b[0m \u001b[0mp\u001b[0m \u001b[0;34m=\u001b[0m \u001b[0mdataset\u001b[0m\u001b[0;34m[\u001b[0m\u001b[0;36m6\u001b[0m\u001b[0;34m]\u001b[0m         \u001b[0;31m# line points\u001b[0m\u001b[0;34m\u001b[0m\u001b[0;34m\u001b[0m\u001b[0m\n\u001b[1;32m     37\u001b[0m \u001b[0;31m# set imaging pseudo-inversion parameters\u001b[0m\u001b[0;34m\u001b[0m\u001b[0;34m\u001b[0m\u001b[0;34m\u001b[0m\u001b[0m\n\u001b[0;32m---> 38\u001b[0;31m \u001b[0mparameters\u001b[0m \u001b[0;34m=\u001b[0m \u001b[0mpara\u001b[0m\u001b[0;34m.\u001b[0m\u001b[0mset_par\u001b[0m\u001b[0;34m(\u001b[0m\u001b[0mshape\u001b[0m\u001b[0;34m=\u001b[0m\u001b[0mshape\u001b[0m\u001b[0;34m,\u001b[0m\u001b[0mmax_elevation\u001b[0m\u001b[0;34m=\u001b[0m\u001b[0mmax_elevation\u001b[0m\u001b[0;34m)\u001b[0m\u001b[0;34m\u001b[0m\u001b[0;34m\u001b[0m\u001b[0m\n\u001b[0m\u001b[1;32m     39\u001b[0m \u001b[0;34m\u001b[0m\u001b[0m\n\u001b[1;32m     40\u001b[0m \u001b[0mscaled\u001b[0m \u001b[0;34m=\u001b[0m \u001b[0mparameters\u001b[0m\u001b[0;34m[\u001b[0m\u001b[0;36m0\u001b[0m\u001b[0;34m]\u001b[0m\u001b[0;34m\u001b[0m\u001b[0;34m\u001b[0m\u001b[0m\n",
      "\u001b[0;31mNameError\u001b[0m: name 'para' is not defined"
     ]
    },
    {
     "data": {
      "image/png": "[encoded data removed]",
      "text/plain": [
       "<Figure size 1440x720 with 1 Axes>"
      ]
     },
     "metadata": {
      "needs_background": "light"
     },
     "output_type": "display_data"
    }
   ],
   "source": [
    "#%% ------------------------------- MALM DATA synthetic\n",
    "\n",
    "interp_size = 300\n",
    "smooth = 'CubicSmoothingSpline' #'Hanning+Lowpass'\n",
    "# smooth = 'CubicSmoothingSpline + interp1d' #'Hanning+Lowpass'\n",
    "interp = False\n",
    "file = 'NoAno'\n",
    "\n",
    "\n",
    "path =  './notebooks_GRL/data/phNO/'\n",
    "dataset = MALMmod.load_MALM_Landfill_model(path=path, \n",
    "                                    filename=file,\n",
    "                                    shape = (300,300),\n",
    "                                    field=True,\n",
    "                                    interp = interp,\n",
    "                                    radius=60)\n",
    "\n",
    "\n",
    "coord_xyz, coord_xyz_int = dataset[0:2]\n",
    "coord_xyz_int\n",
    "Uload = dataset[2]\n",
    "coords_liner = dataset[3]\n",
    "shape, max_elevation = dataset[4:6]\n",
    "\n",
    "dict_data = dataset[7]\n",
    "dict_data['AnoBool']\n",
    "\n",
    "xA = (dict_data['HZ'][0][0]+dict_data['HZ'][0][1])/2\n",
    "x1 = dict_data['HZ'][0][2]\n",
    "y1 = dict_data['HZ'][0][0]\n",
    "y2 = dict_data['HZ'][0][1]\n",
    "\n",
    "z1 = dict_data['HZ'][1]\n",
    "z2 = z1 - dict_data['HZ'][2]\n",
    "\n",
    "p = dataset[6]         # line points                                       \n",
    "# set imaging pseudo-inversion parameters                                                                        \n",
    "parameters = para.set_par(shape=shape,max_elevation=max_elevation)\n",
    "\n",
    "scaled = parameters[0]\n",
    "SI = parameters[1]\n",
    "zp, qorder, nlay = parameters[2:5]\n",
    "minAlt_ridge, maxAlt_ridge = parameters[5:7]\n",
    "\n",
    "max_elevation = 30\n",
    "# nlay = 50\n",
    "\n",
    "# xp, yp, zp = coord_xyz_int\n",
    "xp, yp, zp = coord_xyz\n",
    "# len(xp)\n",
    "Uini = Uload[0] # U_raw, Ucor, U_int, Ucor_int\n",
    "p1 , p2 = p\n",
    "\n",
    "rot = 60\n",
    "origin=(max(xp), min(yp))\n",
    "point_torotate = np.array([xp, yp])\n",
    "xp_r, yp_r = MALMreal.rotate_60(origin, point_torotate, angle_deg=rot, showfig=False)\n",
    "Xs = xp_r-min(xp_r)\n",
    "Ys = yp_r-min(yp_r) \n",
    "    \n",
    "prl = 60\n",
    "# shape = shape  (max(xp)-min(xp))/\n",
    "shape = (150,150)\n",
    "xint_scipy, yint_scipy = gridder.regular((min(Xs)-prl, max(Xs)+prl, \n",
    "                          min(Ys)-prl, max(Ys)+prl),shape=shape)"
   ]
  },
  {
   "cell_type": "code",
   "execution_count": null,
   "id": "greenhouse-layout",
   "metadata": {
    "iooxa": {
     "id": {
      "block": "LxNyCDC5m8JvEwez6Hij",
      "project": "GIJhmq4sVzNS98jxv097",
      "version": 1
     },
     "outputId": null
    }
   },
   "outputs": [],
   "source": [
    "#%% ------------------------------- MALM DATA real\n",
    "MainPath= r'E:\\Padova\\Software\\SourceInversion\\Potential_field_imaging\\dEXP_imaging\\examples_in_prep\\\\'\n",
    "# os.chdir(MainPath)\n",
    "## --------- read MALM measured data file (with electrode positions) --------- ##\n",
    "# RealData = np.loadtxt(\"./1_Data_2_plot/to_plot.dat\",skiprows=0,delimiter='\\t') \n",
    "out = MALMreal.load_MALM_Porto_real(MainPath + '/malm_models/',\n",
    "                          MainPath + './malm_models/XYObs_real_f_m3.txt',\n",
    "                          shape=(100,100),\n",
    "                          radius=200,\n",
    "                          rcor=10,\n",
    "                          rot=0,\n",
    "                          showfig=False)\n",
    "\n",
    "# coords_liner = out[3]\n",
    "p = out[6]         # line points  \n",
    "p1f , p2f = p\n",
    "coord_xyz, coord_xyz_int = out[0:2]\n",
    "xf, yf, zf = coord_xyz\n",
    "# len(xp)\n",
    "\n",
    "out_r = MALMreal.load_MALM_Porto_real(MainPath + '/malm_models/',\n",
    "                          MainPath + './malm_models/XYObs_real_f_m3.txt',\n",
    "                          shape=(100,100),\n",
    "                          radius=200,\n",
    "                          rcor=10,\n",
    "                          rot=60,\n",
    "                          showfig=False)\n",
    "\n",
    "# coords_liner = out[3]\n",
    "p = out_r[6]         # line points  \n",
    "p1f_r , p2f_r = p\n",
    "coord_xyz_r, coord_xyz_int_r = out_r[0:2]\n",
    "Uload_r = out_r[2]\n",
    "uf = Uload_r[1] # U_raw, Ucor, U_int, Ucor_int\n",
    "# xf_rtmp, yf_rtmp, zf_rtmp = coord_xyz\n",
    "\n",
    "# plt.figure()\n",
    "# plt.scatter(xf_rtmp, yf_rtmp, c=uf, cmap='viridis',vmax=0.05)\n",
    "# plt.colorbar()\n",
    "# plt.axis('square')\n",
    "# plt.show()"
   ]
  },
  {
   "cell_type": "code",
   "execution_count": 15,
   "id": "sacred-closer",
   "metadata": {
    "iooxa": {
     "id": {
      "block": "8chckylu1R7I390RD5Uo",
      "project": "GIJhmq4sVzNS98jxv097",
      "version": 1
     },
     "outputId": {
      "block": "INWZEs7tNgjRw7sP7oFF",
      "project": "GIJhmq4sVzNS98jxv097",
      "version": 1
     }
    }
   },
   "outputs": [
    {
     "ename": "NameError",
     "evalue": "name 'xf' is not defined",
     "output_type": "error",
     "traceback": [
      "\u001b[0;31m---------------------------------------------------------------------------\u001b[0m",
      "\u001b[0;31mNameError\u001b[0m                                 Traceback (most recent call last)",
      "\u001b[0;32m/tmp/ipykernel_368412/1462933660.py\u001b[0m in \u001b[0;36m<module>\u001b[0;34m\u001b[0m\n\u001b[1;32m      1\u001b[0m \u001b[0;31m# find point position with respect to line equation defined by p1 and p2\u001b[0m\u001b[0;34m\u001b[0m\u001b[0;34m\u001b[0m\u001b[0;34m\u001b[0m\u001b[0m\n\u001b[0;32m----> 2\u001b[0;31m U_af, p_af, bool_abovef, U_bf, p_bf = MALMmod.isabove(xf, yf, uf, \n\u001b[0m\u001b[1;32m      3\u001b[0m                                   np.array(p1),np.array(p2))\n\u001b[1;32m      4\u001b[0m \u001b[0;31m# Compute p1 and p2 line equation ax + by + c = 0\u001b[0m\u001b[0;34m\u001b[0m\u001b[0;34m\u001b[0m\u001b[0;34m\u001b[0m\u001b[0m\n\u001b[1;32m      5\u001b[0m \u001b[0maf\u001b[0m\u001b[0;34m,\u001b[0m \u001b[0mbf\u001b[0m\u001b[0;34m,\u001b[0m \u001b[0mcf\u001b[0m \u001b[0;34m=\u001b[0m \u001b[0mMALMmod\u001b[0m\u001b[0;34m.\u001b[0m\u001b[0mslope\u001b[0m\u001b[0;34m(\u001b[0m\u001b[0mp1\u001b[0m\u001b[0;34m,\u001b[0m\u001b[0mp2\u001b[0m\u001b[0;34m)\u001b[0m\u001b[0;34m\u001b[0m\u001b[0;34m\u001b[0m\u001b[0m\n",
      "\u001b[0;31mNameError\u001b[0m: name 'xf' is not defined"
     ]
    }
   ],
   "source": [
    "# find point position with respect to line equation defined by p1 and p2\n",
    "U_af, p_af, bool_abovef, U_bf, p_bf = MALMmod.isabove(xf, yf, uf, \n",
    "                                  np.array(p1),np.array(p2))\n",
    "# Compute p1 and p2 line equation ax + by + c = 0\n",
    "af, bf, cf = MALMmod.slope(p1,p2)\n",
    "\n",
    "# Mirror points with respect to p1p2 line\n",
    "Umirrorf, xy_mirrorf = MALMmod.mirrorU_alongLine(U_af,p_af,bool_abovef,af,bf,cf)\n",
    "\n",
    "U_a_intf = gridder.interp_at(xy_mirrorf[:,0], xy_mirrorf[:,1], Umirrorf, xf, yf, algorithm='cubic', \n",
    "                        extrapolate=True)   \n",
    "# U_mirror_int = np.copy(U_a_int)\n",
    "U_mirror_intf = np.copy(uf)\n",
    "U_mirror_intf[np.where(bool_abovef == True)[0]]= U_a_intf[np.where(bool_abovef == True)[0]]\n",
    "\n",
    "xf_mirror = np.hstack([xy_mirrorf[:,0],p_af[:,0]])\n",
    "yf_mirror = np.hstack([xy_mirrorf[:,1],p_af[:,1]])\n",
    "uf_mirror = np.hstack([Umirrorf,U_af])\n"
   ]
  },
  {
   "cell_type": "code",
   "execution_count": null,
   "id": "national-sensitivity",
   "metadata": {
    "iooxa": {
     "id": {
      "block": "Z1d4ZWU7y5EgsX4HR3n3",
      "project": "GIJhmq4sVzNS98jxv097",
      "version": 1
     },
     "outputId": null
    }
   },
   "outputs": [],
   "source": [
    "#%% choose raw or mirrored field\n",
    "Uf = np.copy(uf)\n",
    "# Uf  = np.copy(uf_mirror)\n",
    "# xf = xf_mirror\n",
    "# yf = yf_mirror"
   ]
  },
  {
   "cell_type": "code",
   "execution_count": null,
   "id": "extended-indonesian",
   "metadata": {
    "iooxa": {
     "id": {
      "block": "oDxMW6G4hWzY1Nev3KNX",
      "project": "GIJhmq4sVzNS98jxv097",
      "version": 1
     },
     "outputId": null
    }
   },
   "outputs": [],
   "source": [
    "# %% rotate and rescale all\n",
    "\n",
    "rot = 60\n",
    "origin=(max(xp), min(yp))\n",
    "# origin=(max(Xf), min(Yf))\n",
    "point_torotate = np.array([xp, yp])\n",
    "xp_r, yp_r = MALMreal.rotate_60(origin, point_torotate, angle_deg=rot, showfig=False)\n",
    "\n",
    "point_torotate = np.array([xf, yf])\n",
    "xf_r, yf_r = MALMreal.rotate_60(origin, point_torotate, angle_deg=rot, showfig=False)\n",
    "Xfs = xf_r-min(xp_r)\n",
    "Yfs = yf_r-min(yp_r)\n",
    "\n",
    "plt.figure()\n",
    "plt.scatter(xf_r, yf_r, c=Uf, cmap='viridis',vmax=0.0175)\n",
    "plt.colorbar()\n",
    "plt.axis('square')\n",
    "plt.show()\n",
    "\n",
    "# print(Uf[0:2])\n",
    "\n",
    "point_torotate = np.array([[dict_data['HZ'][0][0],dict_data['HZ'][0][1]],\n",
    "                          [dict_data['HZ'][0][2],dict_data['HZ'][0][2]]])\n",
    "xA_r, yA_r =  MALMreal.rotate_60(origin,point_torotate,angle_deg=rot, showfig=False) #58.511\n",
    "xA_r = xA_r-min(xp_r)\n",
    "yA_r = yA_r-min(yp_r)\n",
    "    \n",
    "point_torotate = np.array(coords_liner).T\n",
    "coords_linerx, coords_linery =  MALMreal.rotate_60(origin,point_torotate,angle_deg=rot, showfig=False)\n",
    "coords_linerx = coords_linerx-min(xp_r)\n",
    "coords_linery = coords_linery-min(yp_r)\n",
    "coords_liner_s = np.array([coords_linerx, coords_linery]).T\n",
    "    \n",
    "\n",
    "plt.figure()\n",
    "plt.scatter(Xfs, Yfs, c=Uf, cmap='viridis',vmax=0.05)\n",
    "plt.colorbar()\n",
    "plt.axis('square')\n",
    "plt.show()\n",
    "    "
   ]
  },
  {
   "cell_type": "code",
   "execution_count": null,
   "id": "governmental-loading",
   "metadata": {
    "iooxa": {
     "id": {
      "block": "rBVx7YPbDTEfsnL7qSJW",
      "project": "GIJhmq4sVzNS98jxv097",
      "version": 1
     },
     "outputId": null
    }
   },
   "outputs": [],
   "source": [
    "#%% Solution 1\n",
    "# extrapolate False and fill with 0 before derivative - mask them later on \n",
    "U_int_scipyf = gridder.interp_at(Xfs,Yfs,Uf, xint_scipy, yint_scipy, algorithm='cubic', extrapolate=False)\n",
    "InterpData = np.array([xint_scipy, yint_scipy, U_int_scipyf]).T\n",
    "where_are_NaNs = np.isnan(InterpData)\n",
    "InterpData[where_are_NaNs] = 0.0074\n",
    "xint_scipy, yint_scipy, U_int_scipyf = InterpData.T\n"
   ]
  },
  {
   "cell_type": "code",
   "execution_count": null,
   "id": "bigger-class",
   "metadata": {
    "iooxa": {
     "id": {
      "block": "SqTvR7SWuWEWPKYL0Jlj",
      "project": "GIJhmq4sVzNS98jxv097",
      "version": 1
     },
     "outputId": {
      "block": "W7QRWDWJuu8LeXKYqh5h",
      "project": "GIJhmq4sVzNS98jxv097",
      "version": 1
     }
    }
   },
   "outputs": [],
   "source": [
    "XFs, YFs = xint_scipy,yint_scipy\n",
    "UF = U_int_scipyf\n",
    "UF = dEXP.smooth2d(XFs, YFs, UF, sigma=2)\n",
    "# plt.savefig('smooth2d' + str(file) + '.png', dpi=450)\n",
    "UFs = UF"
   ]
  },
  {
   "cell_type": "code",
   "execution_count": null,
   "id": "muslim-finger",
   "metadata": {
    "iooxa": {
     "id": {
      "block": "f94senCzNiu7fsFh9gQD",
      "project": "GIJhmq4sVzNS98jxv097",
      "version": 1
     },
     "outputId": {
      "block": "XBYlr5gPPJVw9He6JlIa",
      "project": "GIJhmq4sVzNS98jxv097",
      "version": 1
     }
    }
   },
   "outputs": [],
   "source": [
    "\n",
    "plt.figure()\n",
    "plt.scatter(XFs, YFs, c=UF, cmap='viridis')\n",
    "plt.colorbar()\n",
    "plt.axis('square')\n",
    "plt.show()\n",
    "\n",
    "\n",
    "offset = 255 #260\n",
    "p1_s = np.array([p1f_r[0] -min(xp_r)+offset,p2f_r[0] -min(xp_r)+offset])\n",
    "p2_s = np.array([p1f_r[1] -min(yp_r),p2f_r[1] -min(yp_r) ])\n",
    "ax, plt = pEXP.plot_field(XFs,YFs,UF, shape,\n",
    "            Vminmax=[0,0.02])\n",
    "ax.plot(coords_liner_s[2:5,0],coords_liner_s[2:5,1],'k')\n",
    "ax.set_xlim([300,500])\n",
    "ax.set_ylim([300,500])\n",
    "ax.plot(p1_s,p2_s,'r')\n",
    "\n",
    "x_axis = 'x'\n",
    "# xx, yy, distance, profile, ax, plt = pEXP.plot_line(Xs, Ys, U ,p1_s,p2_s, \n",
    "#                                                     interp=True, smooth=True, \n",
    "#                                                     xaxis = x_axis)\n",
    "p1_s = np.array([p1f_r[0] -min(xp_r)+offset,p1f_r[1] -min(yp_r)])\n",
    "p2_s = np.array([p2f_r[0] -min(xp_r)+offset,p2f_r[1] -min(yp_r) +\n",
    "             abs(p1f_r[1] -min(yp_r) - (yA_r[0]+yA_r[1])/2)\n",
    "             -abs(p2f_r[1] -min(yp_r) - (yA_r[0]+yA_r[1])/2)])\n",
    "# p1_s = np.array([p1[0] -min(xp_r)+260,0])\n",
    "# p2_s = np.array([p2[0] -min(xp_r)+260,800])\n",
    "xx, yy, distance, profile, ax,plt = pEXP.plot_line(XFs, YFs, UF ,p1_s,p2_s, \n",
    "                                        interp=False,\n",
    "                                        x_resolution = interp_size,\n",
    "                                        smooth=smooth, \n",
    "                                        xaxis = x_axis,\n",
    "                                        Vminmax=[0,0.2],\n",
    "                                        limx=[100,650],\n",
    "                                        limy=[100,650],\n",
    "                                        showfig=True)\n",
    "plt.savefig('profile_field.png', dpi=450)\n",
    "\n",
    "# xA_r_new = [p1_s[0]+xA_r[0]-xA_r[1], p1_s[0]-xA_r[0]+xA_r[1]]  \n",
    "\n"
   ]
  },
  {
   "cell_type": "code",
   "execution_count": null,
   "id": "aboriginal-terminal",
   "metadata": {
    "iooxa": {
     "id": {
      "block": "2hRExFOR8q03Pwu1vmeZ",
      "project": "GIJhmq4sVzNS98jxv097",
      "version": 2
     },
     "outputId": {
      "block": "8Ut2i26zJlkqcnslUwxO",
      "project": "GIJhmq4sVzNS98jxv097",
      "version": 2
     }
    }
   },
   "outputs": [],
   "source": [
    "#%% ------------------------------- plot publi mirror\n",
    "\n",
    "ax, plt = pEXP.plot_field(XFs,YFs,UF, shape,Vminmax=[0,0.009])\n",
    "ax.plot(coords_liner_s[2:5,0],coords_liner_s[2:5,1],'k')\n",
    "plt.axis('square')\n",
    "# plt.xlim(min(Xs),max(Ys))\n",
    "# plt.ylim(min(Xs),max(Ys))\n",
    "plt.xlim(300,500)\n",
    "plt.ylim(300,500)\n",
    "plt.savefig('publi_mirror_field.png', dpi=450)"
   ]
  },
  {
   "cell_type": "code",
   "execution_count": null,
   "id": "instrumental-spyware",
   "metadata": {},
   "outputs": [],
   "source": [
    "dict_real_data = { \"XYU\" : [XFs,YFs,UF, UFs], \n",
    "            \"prl\" : 60,\n",
    "            \"shape\": shape,\n",
    "            \"coords_liner\": coords_liner_s,\n",
    "            \"p12\": [p1_s,p2_s]}\n",
    "\n",
    "\n",
    "afile = open('fig6_data' + '.pkl', 'wb')\n",
    "pickle.dump(dict_real_data, afile)\n",
    "afile.close()"
   ]
  },
  {
   "cell_type": "code",
   "execution_count": null,
   "id": "major-green",
   "metadata": {},
   "outputs": [],
   "source": []
  },
  {
   "cell_type": "code",
   "execution_count": null,
   "id": "computational-marijuana",
   "metadata": {},
   "outputs": [],
   "source": []
  },
  {
   "cell_type": "code",
   "execution_count": null,
   "id": "optical-snake",
   "metadata": {},
   "outputs": [],
   "source": []
  }
 ],
 "metadata": {
  "iooxa": {
   "id": {
    "block": "3kVAqzQxETlYwjdduQMy",
    "project": "GIJhmq4sVzNS98jxv097",
    "version": 2
   }
  },
  "kernelspec": {
   "display_name": "Python 3 (ipykernel)",
   "language": "python",
   "name": "python3"
  },
  "language_info": {
   "codemirror_mode": {
    "name": "ipython",
    "version": 3
   },
   "file_extension": ".py",
   "mimetype": "text/x-python",
   "name": "python",
   "nbconvert_exporter": "python",
   "pygments_lexer": "ipython3",
   "version": "3.8.10"
  }
 },
 "nbformat": 4,
 "nbformat_minor": 5
}
