{
 "cells": [
  {
   "cell_type": "markdown",
   "id": "african-authentication",
   "metadata": {
    "iooxa": {
     "id": {
      "block": "CSaicUmNFJAw7PvCtnx7",
      "project": "GIJhmq4sVzNS98jxv097",
      "version": 1
     }
    }
   },
   "source": [
    "# Notebook to reproduce fig. 5 of the DEXP manuscript"
   ]
  },
  {
   "cell_type": "code",
   "execution_count": 1,
   "id": "excellent-grace",
   "metadata": {
    "iooxa": {
     "id": {
      "block": "N8uuMpUxH4fGgWZMwEwh",
      "project": "GIJhmq4sVzNS98jxv097",
      "version": 1
     },
     "outputId": {
      "block": "KkI6FB6WNqTkv2YmF2Yv",
      "project": "GIJhmq4sVzNS98jxv097",
      "version": 1
     }
    }
   },
   "outputs": [
    {
     "name": "stderr",
     "output_type": "stream",
     "text": [
      "/home/ben/Documents/GitHub/BenjMy/dEXP_imaging/fatiando/vis/mpl.py:68: UserWarning: This module will be removed in v0.6. We recommend the use of matplotlib.pyplot module directly. Some of the fatiando specific functions will remain.\n",
      "  warnings.warn(\"This module will be removed in v0.6. We recommend the use of \" +\n"
     ]
    },
    {
     "ename": "ModuleNotFoundError",
     "evalue": "No module named 'mpl_axes_aligner'",
     "output_type": "error",
     "traceback": [
      "\u001b[0;31m---------------------------------------------------------------------------\u001b[0m",
      "\u001b[0;31mModuleNotFoundError\u001b[0m                       Traceback (most recent call last)",
      "\u001b[0;32m/tmp/ipykernel_422901/1804777450.py\u001b[0m in \u001b[0;36m<module>\u001b[0;34m\u001b[0m\n\u001b[1;32m     12\u001b[0m \u001b[0;32mimport\u001b[0m \u001b[0mnumpy\u001b[0m \u001b[0;32mas\u001b[0m \u001b[0mnp\u001b[0m\u001b[0;34m\u001b[0m\u001b[0;34m\u001b[0m\u001b[0m\n\u001b[1;32m     13\u001b[0m \u001b[0;32mimport\u001b[0m \u001b[0mmatplotlib\u001b[0m\u001b[0;34m.\u001b[0m\u001b[0mpyplot\u001b[0m \u001b[0;32mas\u001b[0m \u001b[0mplt\u001b[0m\u001b[0;34m\u001b[0m\u001b[0;34m\u001b[0m\u001b[0m\n\u001b[0;32m---> 14\u001b[0;31m \u001b[0;32mfrom\u001b[0m \u001b[0mmpl_axes_aligner\u001b[0m \u001b[0;32mimport\u001b[0m \u001b[0malign\u001b[0m\u001b[0;34m\u001b[0m\u001b[0;34m\u001b[0m\u001b[0m\n\u001b[0m\u001b[1;32m     15\u001b[0m \u001b[0;34m\u001b[0m\u001b[0m\n\u001b[1;32m     16\u001b[0m \u001b[0mplt\u001b[0m\u001b[0;34m.\u001b[0m\u001b[0mrcParams\u001b[0m\u001b[0;34m[\u001b[0m\u001b[0;34m'font.size'\u001b[0m\u001b[0;34m]\u001b[0m \u001b[0;34m=\u001b[0m \u001b[0;36m15\u001b[0m\u001b[0;34m\u001b[0m\u001b[0;34m\u001b[0m\u001b[0m\n",
      "\u001b[0;31mModuleNotFoundError\u001b[0m: No module named 'mpl_axes_aligner'"
     ]
    }
   ],
   "source": [
    "import os\n",
    "os.chdir('../')\n",
    "\n",
    "import pickle\n",
    "from fatiando.vis.mpl import square\n",
    "from fatiando.gravmag import transform\n",
    "\n",
    "# my own functions\n",
    "import lib.dEXP as dEXP\n",
    "import lib.plot_dEXP as pEXP\n",
    "\n",
    "import numpy as np\n",
    "import matplotlib.pyplot as plt\n",
    "#from mpl_axes_aligner import align\n",
    "\n",
    "plt.rcParams['font.size'] = 15"
   ]
  },
  {
   "cell_type": "markdown",
   "id": "graphic-assistant",
   "metadata": {},
   "source": [
    "### Notebook steps:\n",
    "1. load pre-processed data (rotated and gaussian-smoothed)\n",
    "2. define upward continuation parameters\n",
    "3. compute the derivatives\n",
    "4. upward continuation of the field data\n",
    "5. ridges identification using the find_peaks algoritm\n",
    "6. filter ridges\n",
    "7. Plot ridges over continuated section"
   ]
  },
  {
   "cell_type": "markdown",
   "id": "indonesian-original",
   "metadata": {},
   "source": [
    "### Load already pre-processed data"
   ]
  },
  {
   "cell_type": "code",
   "execution_count": null,
   "id": "smaller-street",
   "metadata": {
    "iooxa": {
     "id": {
      "block": "tnMog4uMbUrjoHpfcnV2",
      "project": "GIJhmq4sVzNS98jxv097",
      "version": 1
     },
     "outputId": {
      "block": "cXoH7V3j1PbFz5Zh6wQg",
      "project": "GIJhmq4sVzNS98jxv097",
      "version": 1
     }
    }
   },
   "outputs": [],
   "source": [
    "data_dir= 'E:/Padova/Redaction/Articles/1b_InversionUsingGravityPotMethod/notebooks/data/'\n",
    "\n",
    "file2load = 'Ano_fig5_data' # 'Ano_fig5_data' OR 'NoAno_fig5_data'\n",
    "savename = \"Ano\"\n",
    "file = open(data_dir+file2load+'.pkl','rb')\n",
    "u = pickle._Unpickler(file)\n",
    "u.encoding = 'latin1'\n",
    "data = u.load()\n",
    "\n",
    "Xs, Ys, U = data['XYU'] # X,Y position and value U of the potential field\n",
    "p1_s, p2_s = data['p12'] # position of the profil to extract define by its end points\n",
    "shape = data['shape'] # shape of the data matrice\n",
    "coords_liner_s = data['coords_liner'] # coordinate of the liner\n",
    "smooth = 'CubicSmoothingSpline' #'Hanning+Lowpass'\n",
    "# smooth = 'CubicSmoothingSpline + interp1d' #'Hanning+Lowpass'\n",
    "xA_r_new, yA_r, z1, z2 = data['xAyAzA1zA2'] # position of the model anamaly\n"
   ]
  },
  {
   "cell_type": "markdown",
   "id": "conventional-hundred",
   "metadata": {},
   "source": [
    "### Define upward continuation parameters"
   ]
  },
  {
   "cell_type": "code",
   "execution_count": null,
   "id": "eligible-charity",
   "metadata": {
    "iooxa": {
     "id": {
      "block": "LxNyCDC5m8JvEwez6Hij",
      "project": "GIJhmq4sVzNS98jxv097",
      "version": 1
     },
     "outputId": null
    }
   },
   "outputs": [],
   "source": [
    "interp = False # interpolation between points\n",
    "interp_size = 300 # interpolation between points\n",
    "x_axis = 'x'  # direction of the profil extracted\n",
    "zp = 0.01 # zero level correction\n",
    "max_elevation = 30\n",
    "minAlt_ridge, maxAlt_ridge = 12.5,37.5 # ridges altitude\n",
    "nlay = 25 # number of layers\n",
    "qorder = 0 # derivative order"
   ]
  },
  {
   "cell_type": "markdown",
   "id": "parliamentary-adrian",
   "metadata": {},
   "source": [
    "### Plot raw and filtered potential field V along the profile p direction"
   ]
  },
  {
   "cell_type": "code",
   "execution_count": null,
   "id": "hydraulic-patio",
   "metadata": {
    "iooxa": {
     "id": {
      "block": "8chckylu1R7I390RD5Uo",
      "project": "GIJhmq4sVzNS98jxv097",
      "version": 1
     },
     "outputId": {
      "block": "INWZEs7tNgjRw7sP7oFF",
      "project": "GIJhmq4sVzNS98jxv097",
      "version": 1
     }
    }
   },
   "outputs": [],
   "source": [
    "xx, yy, distance, profile, ax,plt = pEXP.plot_line(Xs, Ys, U ,p1_s,p2_s, \n",
    "                                            interp=False,\n",
    "                                            x_resolution = interp_size,\n",
    "                                            smooth=smooth, \n",
    "                                            xaxis = x_axis,\n",
    "                                            Vminmax=[0,0.35],\n",
    "                                            limx=[100,650],\n",
    "                                            limy=[100,650],\n",
    "                                            showfig=True)\n",
    "plt.savefig('profile' + savename + '.png', dpi=450)\n"
   ]
  },
  {
   "cell_type": "markdown",
   "id": "fifty-river",
   "metadata": {},
   "source": [
    "As the potential field is scattered, the data are filtered given a choice of different algoritm. For this study, the CubicSmoothingSpline is selected"
   ]
  },
  {
   "cell_type": "markdown",
   "id": "endangered-robinson",
   "metadata": {},
   "source": [
    "### Plot mirrored field"
   ]
  },
  {
   "cell_type": "code",
   "execution_count": null,
   "id": "electrical-serve",
   "metadata": {
    "iooxa": {
     "id": {
      "block": "Z1d4ZWU7y5EgsX4HR3n3",
      "project": "GIJhmq4sVzNS98jxv097",
      "version": 1
     },
     "outputId": null
    }
   },
   "outputs": [],
   "source": [
    "ax, plt = pEXP.plot_field(Xs,Ys,U, shape,Vminmax=[0,0.35])\n",
    "ax.plot(coords_liner_s[2:5,0],coords_liner_s[2:5,1],'k')\n",
    "plt.scatter(xA_r_new[1], yA_r[1], c='g', s=100)\n",
    "plt.axis('square')\n",
    "plt.xlim(300,500)\n",
    "plt.ylim(300,500)\n",
    "plt.savefig('publi_mirror' + savename + '.png', dpi=450,bbox_inches = \"tight\")\n"
   ]
  },
  {
   "cell_type": "code",
   "execution_count": null,
   "id": "devoted-shape",
   "metadata": {
    "iooxa": {
     "id": {
      "block": "oDxMW6G4hWzY1Nev3KNX",
      "project": "GIJhmq4sVzNS98jxv097",
      "version": 1
     },
     "outputId": null
    }
   },
   "outputs": [],
   "source": [
    "#%% ------------------------------- Pad the edges of grids\n",
    "\n",
    "# xp,yp,U, shape = dEXP.pad_edges(xp,yp,U,shape,pad_type=0) # reflexion=5\n",
    "# pEXP.plot_line(xp, yp,U,p1,p2, interp=interp)   "
   ]
  },
  {
   "cell_type": "markdown",
   "id": "social-activation",
   "metadata": {
    "iooxa": {
     "id": {
      "block": "ukKhXxvm9iJcCPW097a4",
      "project": "GIJhmq4sVzNS98jxv097",
      "version": 1
     }
    }
   },
   "source": [
    "### Compute the derivatives"
   ]
  },
  {
   "cell_type": "code",
   "execution_count": null,
   "id": "incorporate-champagne",
   "metadata": {
    "iooxa": {
     "id": {
      "block": "rBVx7YPbDTEfsnL7qSJW",
      "project": "GIJhmq4sVzNS98jxv097",
      "version": 1
     },
     "outputId": null
    }
   },
   "outputs": [],
   "source": [
    "xderiv = transform.derivx(Xs, Ys, U, shape,order=0)\n",
    "yderiv = transform.derivy(Xs, Ys, U, shape,order=0)\n",
    "zderiv = transform.derivz(Xs, Ys, U, shape,order=0)\n",
    "\n",
    "# interp = True\n",
    "#pEXP.plot_line(Xs, Ys, xderiv ,p1_s,p2_s,title='xderiv',x_resolution= interp_size,\n",
    "#                savefig=False, interp=interp, smooth=smooth,  Xaxis=x_axis)\n",
    "\n",
    "#plt.savefig('xderiv' + savename + '.png', dpi=450)\n",
    "\n",
    "#pEXP.plot_line(Xs, Ys, yderiv ,p1_s,p2_s,title='yderiv',x_resolution= interp_size,\n",
    "#                savefig=False, interp=interp, smooth=smooth,  Xaxis=x_axis)\n",
    "\n",
    "#plt.savefig('yderiv' + savename + '.png', dpi=450)\n",
    "\n",
    "#pEXP.plot_line(Xs, Ys, zderiv ,p1_s,p2_s,title='zderiv',x_resolution= interp_size,\n",
    "#                savefig=False, interp=interp, smooth=smooth,  Xaxis=x_axis)\n",
    "\n",
    "#plt.savefig('zderiv' + savename + '.png', dpi=450)"
   ]
  },
  {
   "cell_type": "markdown",
   "id": "cutting-harrison",
   "metadata": {
    "iooxa": {
     "id": {
      "block": "SqTvR7SWuWEWPKYL0Jlj",
      "project": "GIJhmq4sVzNS98jxv097",
      "version": 1
     },
     "outputId": {
      "block": "W7QRWDWJuu8LeXKYqh5h",
      "project": "GIJhmq4sVzNS98jxv097",
      "version": 1
     }
    }
   },
   "source": [
    "### Upward continuation of the field data"
   ]
  },
  {
   "cell_type": "code",
   "execution_count": null,
   "id": "strong-basketball",
   "metadata": {
    "iooxa": {
     "id": {
      "block": "aohVouVhWzpbEoL6Gcfv",
      "project": "GIJhmq4sVzNS98jxv097",
      "version": 1
     }
    }
   },
   "outputs": [],
   "source": [
    "p = [p1_s,p2_s]\n",
    "\n",
    "mesh, label_prop = dEXP.upwc(Xs, Ys, zp, U, shape, \n",
    "                  zmin=zp, zmax=max_elevation, nlayers=nlay, \n",
    "                  qorder=qorder)\n",
    "\n",
    "plt, cmap = pEXP.plot_xy(mesh, label=label_prop,Xaxis=x_axis,\n",
    "                         Vminmax=[0,0.35], p1p2=p)\n",
    "\n",
    "cbar = plt.colorbar(cmap,shrink=0.7)\n",
    "cbar.set_label('upwc voltage (V)')\n",
    "plt.tight_layout()\n",
    "plt.savefig('upwc voltage' + savename + '.png', dpi=450)"
   ]
  },
  {
   "cell_type": "markdown",
   "id": "applied-scoop",
   "metadata": {
    "iooxa": {
     "id": {
      "block": "xmuw6sMbrEWm6CKlldDi",
      "project": "GIJhmq4sVzNS98jxv097",
      "version": 1
     }
    }
   },
   "source": [
    " ### DEXP ratio"
   ]
  },
  {
   "cell_type": "code",
   "execution_count": null,
   "id": "overall-question",
   "metadata": {
    "iooxa": {
     "id": {
      "block": "2hRExFOR8q03Pwu1vmeZ",
      "project": "GIJhmq4sVzNS98jxv097",
      "version": 2
     },
     "outputId": {
      "block": "8Ut2i26zJlkqcnslUwxO",
      "project": "GIJhmq4sVzNS98jxv097",
      "version": 2
     }
    }
   },
   "outputs": [],
   "source": [
    "qratio = [1,0]\n",
    "mesh_dexp, label_dexp = dEXP.dEXP_ratio(Xs, Ys, zp, U, shape, \n",
    "                  zmin=zp, zmax=max_elevation, nlayers=nlay, \n",
    "                  qorders=qratio)\n",
    "fig = plt.figure(figsize=(7,1.5))\n",
    "ax = plt.gca()\n",
    "plt, cmap = pEXP.plot_xy(mesh_dexp, label=label_dexp,\n",
    "              markerMax=True,qratio=str(qratio),Vminmax=[0,0.065],\n",
    "              p1p2=np.array([p1_s,p2_s]), ax=ax, Xaxis=x_axis,\n",
    "              aspect_equal=True) #, ldg=)\n",
    "ax.set_aspect('equal')\n",
    "cbar = plt.colorbar(cmap,shrink=0.7)\n",
    "cbar.set_label('ratio voltage (V)')\n",
    "\n",
    "if savename != 'NoAno':\n",
    "    if x_axis=='y':\n",
    "        square([xA_r_new[0], xA_r_new[1], -z1, -z2])\n",
    "    else:   \n",
    "        square([yA_r[0], yA_r[1], -z1, -z2])\n",
    "plt.xlim([200,600])\n",
    "plt.savefig('fig5_ratios_' + savename + '.png', dpi=450, bbox_inches = \"tight\")"
   ]
  },
  {
   "cell_type": "code",
   "execution_count": null,
   "id": "therapeutic-walker",
   "metadata": {},
   "outputs": [],
   "source": []
  },
  {
   "cell_type": "markdown",
   "id": "resident-tobacco",
   "metadata": {},
   "source": [
    "### Ridges identification using the find_peaks algoritm\n",
    "Put showfig=True to see the maximum identification"
   ]
  },
  {
   "cell_type": "code",
   "execution_count": null,
   "id": "continued-reviewer",
   "metadata": {},
   "outputs": [],
   "source": [
    "dEXP.ridges_minmax_plot(Xs, Ys, mesh, p1_s, p2_s,\n",
    "                                      label=label_prop,\n",
    "                                      interp=interp,x_resolution= interp_size,\n",
    "                                      smooth=smooth,\n",
    "                                      fix_peak_nb=2,\n",
    "                                      method_peak='find_peaks',\n",
    "                                      showfig=False,\n",
    "                                      Xaxis=x_axis)  \n",
    "\n",
    "D = dEXP.ridges_minmax(Xs, Ys, mesh, p1_s, p2_s,\n",
    "                                      label=label_prop,\n",
    "                                      method_peak='find_peaks',\n",
    "                                      fix_peak_nb=2,\n",
    "                                      returnAmp=True,\n",
    "                                      showfig=False,\n",
    "                                      Xaxis=x_axis,\n",
    "                                      interp=interp,x_resolution= interp_size,\n",
    "                                      smooth = smooth,\n",
    "                                      qorder=qorder)  \n",
    "\n",
    "dfI, dfII, dfIII =  D[0:3]\n",
    "hI, hII, hIII  = D[3:6]\n",
    "heights  = D[3:6]"
   ]
  },
  {
   "cell_type": "markdown",
   "id": "detected-underground",
   "metadata": {},
   "source": [
    "### Plot ridges over continuated section"
   ]
  },
  {
   "cell_type": "code",
   "execution_count": null,
   "id": "pediatric-watch",
   "metadata": {},
   "outputs": [],
   "source": [
    "fig = plt.figure(figsize=(7,1.5))\n",
    "ax = plt.gca()\n",
    "plt, cmap = pEXP.plot_xy(mesh, label=label_prop, ax=ax, Xaxis=x_axis,\n",
    "            Vminmax=[0,0.35], p1p2=p)\n",
    "cbar = plt.colorbar(cmap,shrink=0.7)\n",
    "cbar.set_label('upwc voltage (V)')\n",
    "plt.tight_layout()\n",
    "pEXP.plot_ridges_harmonic(dfI,dfII,dfIII,ax=ax)\n",
    "plt.xlim([200,600])\n",
    "plt.savefig('ridges_raw_' + savename + '.png', dpi=450)"
   ]
  },
  {
   "cell_type": "markdown",
   "id": "endangered-hormone",
   "metadata": {},
   "source": [
    "### Filter ridges\n",
    "- spatially constrainsted in altitude and in longitude (x)\n",
    "- minimum number of points forming a ridge = 5\n",
    "\n",
    "dfI, dfII and dfIII are the dataframe for each ridge type"
   ]
  },
  {
   "cell_type": "code",
   "execution_count": null,
   "id": "beginning-rover",
   "metadata": {},
   "outputs": [],
   "source": [
    "dfI_f,dfII_f, dfIII_f = dEXP.filter_ridges(dfI,dfII,dfIII,\n",
    "                                            minDepth=minAlt_ridge, maxDepth=maxAlt_ridge,\n",
    "                                            minlength=5,rmvNaN=True,\n",
    "                                            xmin=300, xmax=450,\n",
    "                                            Xaxis=x_axis)\n",
    "\n",
    "df_f = dfI_f, dfII_f, dfIII_f"
   ]
  },
  {
   "cell_type": "markdown",
   "id": "generic-algeria",
   "metadata": {},
   "source": [
    "### Plot ridges fitted over continuated section"
   ]
  },
  {
   "cell_type": "code",
   "execution_count": null,
   "id": "smart-honey",
   "metadata": {},
   "outputs": [],
   "source": [
    "fig, ax1 = plt.subplots(figsize=(7,2.5))\n",
    "\n",
    "plt, cmap = pEXP.plot_xy(mesh, label=label_prop, ax=ax1, Xaxis=x_axis,\n",
    "              Vminmax=[0,0.35], p1p2=p)\n",
    "pEXP.plot_ridges_harmonic(dfI_f,dfII_f,dfIII_f,ax=ax1,label=True)\n",
    "\n",
    "df_fit = dEXP.fit_ridges(df_f, rmvOutliers=True) # fit ridges on filtered data\n",
    "\n",
    "ax2 = pEXP.plot_ridges_sources(df_fit, ax=ax1, z_max_source=-max_elevation*2,\n",
    "                          ridge_type=[0,1,2],ridge_nb=None)\n",
    "\n",
    "\n",
    "cbar = plt.colorbar(cmap,shrink=0.7)\n",
    "cbar.set_label('upwc\\nvoltage\\n($V.m^2$)',fontsize=12)\n",
    "plt.tight_layout()\n",
    "#pEXP.plot_ridges_harmonic(dfI,dfII,dfIII,ax=ax1)\n",
    "plt.xlim([250,500])\n",
    "ax1.set_ylim([0,30])\n",
    "ax2.set_ylim([-60,0])\n",
    "\n",
    "labels_ax1 = ax1.get_yticks() \n",
    "labels_ax1= labels_ax1[labels_ax1>0]\n",
    "\n",
    "labels_ax2 = ax2.get_yticks() \n",
    "labels_ax2= labels_ax2[labels_ax2<0]\n",
    "\n",
    "ax1.set_yticks(labels_ax1)\n",
    "ax2.set_yticks(labels_ax2)\n",
    "ax1.set_xlabel('y(m)')\n",
    "\n",
    "# Adjust the plotting range of two y axes\n",
    "org1 = 0.0  # Origin of first axis\n",
    "org2 = 0.0  # Origin of second axis\n",
    "pos = 0.5  # Position the two origins are aligned\n",
    "align.yaxes(ax1, org1, ax2, org2, pos)\n",
    "\n",
    "if savename != 'NoAno':\n",
    "    if x_axis=='y':\n",
    "        square([xA_r_new[0], xA_r_new[1], z1, z2])\n",
    "    else:   \n",
    "        square([yA_r[0], yA_r[1], z1, z2])\n",
    "\n",
    "plt.savefig('fig5_geom_' + savename + '.png', dpi=450)\n"
   ]
  }
 ],
 "metadata": {
  "iooxa": {
   "id": {
    "block": "3kVAqzQxETlYwjdduQMy",
    "project": "GIJhmq4sVzNS98jxv097",
    "version": 2
   }
  },
  "kernelspec": {
   "display_name": "Python 3 (ipykernel)",
   "language": "python",
   "name": "python3"
  },
  "language_info": {
   "codemirror_mode": {
    "name": "ipython",
    "version": 3
   },
   "file_extension": ".py",
   "mimetype": "text/x-python",
   "name": "python",
   "nbconvert_exporter": "python",
   "pygments_lexer": "ipython3",
   "version": "3.8.10"
  }
 },
 "nbformat": 4,
 "nbformat_minor": 5
}
