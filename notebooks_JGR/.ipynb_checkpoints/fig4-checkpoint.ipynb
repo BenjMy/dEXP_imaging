{
 "cells": [
  {
   "cell_type": "code",
   "execution_count": null,
   "id": "6336faec",
   "metadata": {},
   "outputs": [],
   "source": [
    "# Notebook to reproduce fig. 4 of the DEXP manuscript"
   ]
  },
  {
   "cell_type": "code",
   "execution_count": null,
   "id": "2b0c8008",
   "metadata": {},
   "outputs": [],
   "source": [
    "# clone github\n",
    "!pip install git+https://github.com/BenjMy/dEXP_imaging\n",
    "import numpy as np\n",
    "import matplotlib.pyplot as plt\n",
    "from matplotlib.ticker import FormatStrFormatter\n",
    "plt.rcParams['font.size'] = 15"
   ]
  }
 ],
 "metadata": {
  "kernelspec": {
   "display_name": "Python 3 (ipykernel)",
   "language": "python",
   "name": "python3"
  },
  "language_info": {
   "codemirror_mode": {
    "name": "ipython",
    "version": 3
   },
   "file_extension": ".py",
   "mimetype": "text/x-python",
   "name": "python",
   "nbconvert_exporter": "python",
   "pygments_lexer": "ipython3",
   "version": "3.8.10"
  }
 },
 "nbformat": 4,
 "nbformat_minor": 5
}
