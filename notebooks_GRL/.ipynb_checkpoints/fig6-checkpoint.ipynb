{
 "cells": [
  {
   "cell_type": "markdown",
   "id": "entitled-square",
   "metadata": {
    "iooxa": {
     "id": {
      "block": "CSaicUmNFJAw7PvCtnx7",
      "project": "GIJhmq4sVzNS98jxv097",
      "version": 1
     }
    }
   },
   "source": [
    "# Notebook to reproduce fig. 6 of the DEXP manuscript"
   ]
  },
  {
   "cell_type": "code",
   "execution_count": 1,
   "id": "28937c2d-0dba-408b-81b2-f048649034b4",
   "metadata": {
    "iooxa": {
     "id": {
      "block": "N8uuMpUxH4fGgWZMwEwh",
      "project": "GIJhmq4sVzNS98jxv097",
      "version": 3
     },
     "outputId": {
      "block": "KkI6FB6WNqTkv2YmF2Yv",
      "project": "GIJhmq4sVzNS98jxv097",
      "version": 3
     }
    }
   },
   "outputs": [
    {
     "name": "stdout",
     "output_type": "stream",
     "text": [
      "Collecting git+https://github.com/BenjMy/dEXP_imaging\n",
      "  Cloning https://github.com/BenjMy/dEXP_imaging to /tmp/pip-req-build-o_eckmha\n",
      "  Running command git clone -q https://github.com/BenjMy/dEXP_imaging /tmp/pip-req-build-o_eckmha\n",
      "  Resolved https://github.com/BenjMy/dEXP_imaging to commit 532a657146709c74197de487a8b6c79e3c0d0c68\n",
      "Requirement already satisfied: csaps in /home/ben/miniconda3/lib/python3.9/site-packages (from dexp-imaging==0.1.0.dev0) (1.0.4)\n",
      "Requirement already satisfied: scipy<1.7.0,>=1.0.0 in /home/ben/miniconda3/lib/python3.9/site-packages (from csaps->dexp-imaging==0.1.0.dev0) (1.6.3)\n",
      "Requirement already satisfied: numpy<1.21.0,>=1.11.0 in /home/ben/miniconda3/lib/python3.9/site-packages (from csaps->dexp-imaging==0.1.0.dev0) (1.20.3)\n"
     ]
    }
   ],
   "source": [
    "# clone github\n",
    "!pip install git+https://github.com/BenjMy/dEXP_imaging\n",
    "import numpy as np\n",
    "import matplotlib.pyplot as plt\n",
    "\n",
    "# install dependencies from the requirements.txt file\n",
    "# !pip install mpl_axes_aligner\n",
    "# !pip install csaps"
   ]
  },
  {
   "cell_type": "code",
   "execution_count": 2,
   "id": "5f42bf15-719e-44f2-b51e-afc49c316ff3",
   "metadata": {},
   "outputs": [],
   "source": [
    "# Tweak the figure style\n",
    "from matplotlib.ticker import FormatStrFormatter\n",
    "plt.rcParams['font.size'] = 15\n",
    "# Tweak the figure style\n",
    "plt.rcParams.update({\n",
    "    'ytick.labelsize': 'small',\n",
    "    'xtick.labelsize': 'small',\n",
    "    'axes.labelsize': 'small',\n",
    "    'axes.titlesize': 'medium',\n",
    "    'grid.color': '0.75',\n",
    "    'grid.linestyle': ':',\n",
    "})\n",
    "import os\n",
    "os.chdir('../')"
   ]
  },
  {
   "cell_type": "code",
   "execution_count": 3,
   "id": "favorite-median",
   "metadata": {
    "iooxa": {
     "id": {
      "block": "N8uuMpUxH4fGgWZMwEwh",
      "project": "GIJhmq4sVzNS98jxv097",
      "version": 1
     },
     "outputId": {
      "block": "KkI6FB6WNqTkv2YmF2Yv",
      "project": "GIJhmq4sVzNS98jxv097",
      "version": 1
     }
    }
   },
   "outputs": [
    {
     "name": "stderr",
     "output_type": "stream",
     "text": [
      "/home/ben/Documents/GitHub/BenjMy/dEXP_imaging/fatiando/vis/mpl.py:68: UserWarning: This module will be removed in v0.6. We recommend the use of matplotlib.pyplot module directly. Some of the fatiando specific functions will remain.\n",
      "  warnings.warn(\"This module will be removed in v0.6. We recommend the use of \" +\n"
     ]
    }
   ],
   "source": [
    "# my own functions\n",
    "import lib.dEXP as dEXP #all functions for potential field transformation and ridges analysis\n",
    "import lib.plot_dEXP as pEXP #all functions for representation\n",
    "\n",
    "import pickle\n",
    "\n",
    "import numpy as np\n",
    "import matplotlib.pyplot as plt\n",
    "plt.rcParams['font.size'] = 15\n",
    "#from mpl_axes_aligner import align\n"
   ]
  },
  {
   "cell_type": "markdown",
   "id": "opened-commitment",
   "metadata": {},
   "source": [
    "- fatiando a terra old package (only used to compute the vertical and horizontal derivatives) \n",
    "http://www.fatiando.org/dev/"
   ]
  },
  {
   "cell_type": "code",
   "execution_count": 4,
   "id": "parallel-purchase",
   "metadata": {},
   "outputs": [],
   "source": [
    "from fatiando.vis.mpl import square\n",
    "from fatiando.gravmag import transform"
   ]
  },
  {
   "cell_type": "markdown",
   "id": "breeding-trailer",
   "metadata": {},
   "source": [
    "### Notebook steps:\n",
    "- load pre-processed data (rotated and gaussian-smoothed)\n",
    "- define upward continuation parameters\n",
    "- compute the derivatives\n",
    "- upward continuation of the field data\n",
    "- ridges identification using the find_peaks algoritm\n",
    "- filter ridges\n",
    "- Plot ridges over continuated section"
   ]
  },
  {
   "cell_type": "markdown",
   "id": "guided-classics",
   "metadata": {},
   "source": [
    "### Load already pre-processed data"
   ]
  },
  {
   "cell_type": "code",
   "execution_count": 5,
   "id": "outstanding-conversation",
   "metadata": {
    "iooxa": {
     "id": {
      "block": "tnMog4uMbUrjoHpfcnV2",
      "project": "GIJhmq4sVzNS98jxv097",
      "version": 1
     },
     "outputId": {
      "block": "cXoH7V3j1PbFz5Zh6wQg",
      "project": "GIJhmq4sVzNS98jxv097",
      "version": 1
     }
    }
   },
   "outputs": [],
   "source": [
    "data_dir= 'notebooks_GRL/data/'\n",
    "\n",
    "savename = \"real\"\n",
    "file = open(data_dir+'fig6_data_m.pkl','rb') # fig6_data or fig6_data_m for mirrored field\n",
    "u = pickle._Unpickler(file)\n",
    "u.encoding = 'latin1'\n",
    "data = u.load()\n",
    "\n",
    "Xs, Ys, Ur, U = data['XYU'] # X,Y position and value U of the potential field\n",
    "p1_s, p2_s = data['p12'] # position of the profil to extract define by its end points\n",
    "shape = data['shape'] # shape of the data matrice\n",
    "coords_liner_s = data['coords_liner'] # coordinate of the liner\n",
    "smooth = 'CubicSmoothingSpline' #'Hanning+Lowpass'\n",
    "# smooth = 'CubicSmoothingSpline + interp1d' #'Hanning+Lowpass'\n"
   ]
  },
  {
   "cell_type": "markdown",
   "id": "ecological-double",
   "metadata": {},
   "source": [
    "### Define upward continuation parameters"
   ]
  },
  {
   "cell_type": "code",
   "execution_count": 6,
   "id": "continuing-wells",
   "metadata": {
    "iooxa": {
     "id": {
      "block": "LxNyCDC5m8JvEwez6Hij",
      "project": "GIJhmq4sVzNS98jxv097",
      "version": 1
     },
     "outputId": null
    }
   },
   "outputs": [],
   "source": [
    "interp = False # interpolation between points\n",
    "interp_size = 300 # interpolation between points\n",
    "x_axis = 'x'  # direction of the profil extracted\n",
    "zp = 0 # zero level correction\n",
    "max_elevation = 30\n",
    "minAlt_ridge, maxAlt_ridge = 12.5,37.5 # ridges altitude\n",
    "nlay = 25 # number of layers\n",
    "qorder = 0 # derivative order"
   ]
  },
  {
   "cell_type": "markdown",
   "id": "welcome-field",
   "metadata": {},
   "source": [
    "### Plot raw and filtered potential field V along the profile p direction"
   ]
  },
  {
   "cell_type": "code",
   "execution_count": 7,
   "id": "three-canberra",
   "metadata": {
    "iooxa": {
     "id": {
      "block": "8chckylu1R7I390RD5Uo",
      "project": "GIJhmq4sVzNS98jxv097",
      "version": 1
     },
     "outputId": {
      "block": "INWZEs7tNgjRw7sP7oFF",
      "project": "GIJhmq4sVzNS98jxv097",
      "version": 1
     }
    }
   },
   "outputs": [
    {
     "ename": "ModuleNotFoundError",
     "evalue": "No module named 'csaps'",
     "output_type": "error",
     "traceback": [
      "\u001b[0;31m---------------------------------------------------------------------------\u001b[0m",
      "\u001b[0;31mModuleNotFoundError\u001b[0m                       Traceback (most recent call last)",
      "\u001b[0;32m/tmp/ipykernel_375098/3586795995.py\u001b[0m in \u001b[0;36m<module>\u001b[0;34m\u001b[0m\n\u001b[0;32m----> 1\u001b[0;31m xx, yy, distance, profile, ax,plt = pEXP.plot_line(Xs, Ys, U ,p1_s,p2_s, \n\u001b[0m\u001b[1;32m      2\u001b[0m                                             \u001b[0minterp\u001b[0m\u001b[0;34m=\u001b[0m\u001b[0;32mFalse\u001b[0m\u001b[0;34m,\u001b[0m\u001b[0;34m\u001b[0m\u001b[0;34m\u001b[0m\u001b[0m\n\u001b[1;32m      3\u001b[0m                                             \u001b[0mx_resolution\u001b[0m \u001b[0;34m=\u001b[0m \u001b[0minterp_size\u001b[0m\u001b[0;34m,\u001b[0m\u001b[0;34m\u001b[0m\u001b[0;34m\u001b[0m\u001b[0m\n\u001b[1;32m      4\u001b[0m                                             \u001b[0msmooth\u001b[0m\u001b[0;34m=\u001b[0m\u001b[0msmooth\u001b[0m\u001b[0;34m,\u001b[0m\u001b[0;34m\u001b[0m\u001b[0;34m\u001b[0m\u001b[0m\n\u001b[1;32m      5\u001b[0m                                             \u001b[0mxaxis\u001b[0m \u001b[0;34m=\u001b[0m \u001b[0mx_axis\u001b[0m\u001b[0;34m,\u001b[0m\u001b[0;34m\u001b[0m\u001b[0;34m\u001b[0m\u001b[0m\n",
      "\u001b[0;32m~/Documents/GitHub/BenjMy/dEXP_imaging/lib/plot_dEXP.py\u001b[0m in \u001b[0;36mplot_line\u001b[0;34m(x, y, data, p1, p2, ax, interp, **kwargs)\u001b[0m\n\u001b[1;32m    400\u001b[0m     \u001b[0;31m# Extract a profile between points 1 and 2\u001b[0m\u001b[0;34m\u001b[0m\u001b[0;34m\u001b[0m\u001b[0;34m\u001b[0m\u001b[0m\n\u001b[1;32m    401\u001b[0m     \u001b[0;32mif\u001b[0m \u001b[0minterp\u001b[0m \u001b[0;34m==\u001b[0m \u001b[0;32mFalse\u001b[0m\u001b[0;34m:\u001b[0m\u001b[0;34m\u001b[0m\u001b[0;34m\u001b[0m\u001b[0m\n\u001b[0;32m--> 402\u001b[0;31m         xx, yy, distance, profile, vp_smooth_dict = dEXP.profile_noInter(x, y, data, p1, p2, size=x_resolution,\n\u001b[0m\u001b[1;32m    403\u001b[0m                                                                          showfig=showfig)\n\u001b[1;32m    404\u001b[0m         \u001b[0;31m# xx, yy, distance, profile, profile_smooth = dEXP.profile_extra(x, y, data, p1, p2, 1000)\u001b[0m\u001b[0;34m\u001b[0m\u001b[0;34m\u001b[0m\u001b[0;34m\u001b[0m\u001b[0m\n",
      "\u001b[0;32m~/Documents/GitHub/BenjMy/dEXP_imaging/lib/dEXP.py\u001b[0m in \u001b[0;36mprofile_noInter\u001b[0;34m(x, y, v, point1, point2, size, **kwargs)\u001b[0m\n\u001b[1;32m   1508\u001b[0m         \u001b[0mvp\u001b[0m\u001b[0;34m.\u001b[0m\u001b[0mappend\u001b[0m\u001b[0;34m(\u001b[0m\u001b[0mv\u001b[0m\u001b[0;34m[\u001b[0m\u001b[0mind\u001b[0m\u001b[0;34m]\u001b[0m\u001b[0;34m)\u001b[0m\u001b[0;34m\u001b[0m\u001b[0;34m\u001b[0m\u001b[0m\n\u001b[1;32m   1509\u001b[0m \u001b[0;34m\u001b[0m\u001b[0m\n\u001b[0;32m-> 1510\u001b[0;31m     \u001b[0mvp_smooth_dict\u001b[0m \u001b[0;34m=\u001b[0m \u001b[0m_smooth_allfcts\u001b[0m\u001b[0;34m(\u001b[0m\u001b[0mxaxis\u001b[0m\u001b[0;34m,\u001b[0m\u001b[0mvp\u001b[0m\u001b[0;34m,\u001b[0m\u001b[0mshowfig\u001b[0m\u001b[0;34m)\u001b[0m\u001b[0;34m\u001b[0m\u001b[0;34m\u001b[0m\u001b[0m\n\u001b[0m\u001b[1;32m   1511\u001b[0m \u001b[0;34m\u001b[0m\u001b[0m\n\u001b[1;32m   1512\u001b[0m     \u001b[0;32mreturn\u001b[0m \u001b[0mxp\u001b[0m\u001b[0;34m,\u001b[0m \u001b[0myp\u001b[0m\u001b[0;34m,\u001b[0m \u001b[0mdistances\u001b[0m\u001b[0;34m,\u001b[0m \u001b[0mvp\u001b[0m\u001b[0;34m,\u001b[0m \u001b[0mvp_smooth_dict\u001b[0m\u001b[0;34m\u001b[0m\u001b[0;34m\u001b[0m\u001b[0m\n",
      "\u001b[0;32m~/Documents/GitHub/BenjMy/dEXP_imaging/lib/dEXP.py\u001b[0m in \u001b[0;36m_smooth_allfcts\u001b[0;34m(xaxis, vp, showfig)\u001b[0m\n\u001b[1;32m   1535\u001b[0m \u001b[0;34m\u001b[0m\u001b[0m\n\u001b[1;32m   1536\u001b[0m     \u001b[0mvp_smooth_1\u001b[0m \u001b[0;34m=\u001b[0m \u001b[0m_smooth1d\u001b[0m\u001b[0;34m(\u001b[0m\u001b[0mxaxis\u001b[0m\u001b[0;34m,\u001b[0m\u001b[0mvp\u001b[0m\u001b[0;34m)\u001b[0m\u001b[0;34m\u001b[0m\u001b[0;34m\u001b[0m\u001b[0m\n\u001b[0;32m-> 1537\u001b[0;31m     \u001b[0mvp_smooth_2\u001b[0m \u001b[0;34m=\u001b[0m \u001b[0m_smooth1d_old\u001b[0m\u001b[0;34m(\u001b[0m\u001b[0mxaxis\u001b[0m\u001b[0;34m,\u001b[0m\u001b[0mvp\u001b[0m\u001b[0;34m)\u001b[0m\u001b[0;34m\u001b[0m\u001b[0;34m\u001b[0m\u001b[0m\n\u001b[0m\u001b[1;32m   1538\u001b[0m     \u001b[0mvp_smooth_3\u001b[0m \u001b[0;34m=\u001b[0m \u001b[0m_smooth_lowpass\u001b[0m\u001b[0;34m(\u001b[0m\u001b[0mxaxis\u001b[0m\u001b[0;34m,\u001b[0m\u001b[0mvp_smooth_1\u001b[0m\u001b[0;34m)\u001b[0m\u001b[0;34m\u001b[0m\u001b[0;34m\u001b[0m\u001b[0m\n\u001b[1;32m   1539\u001b[0m \u001b[0;34m\u001b[0m\u001b[0m\n",
      "\u001b[0;32m~/Documents/GitHub/BenjMy/dEXP_imaging/lib/dEXP.py\u001b[0m in \u001b[0;36m_smooth1d_old\u001b[0;34m(x_axis, p_up)\u001b[0m\n\u001b[1;32m   1650\u001b[0m \u001b[0;34m\u001b[0m\u001b[0m\n\u001b[1;32m   1651\u001b[0m \u001b[0;32mdef\u001b[0m \u001b[0m_smooth1d_old\u001b[0m\u001b[0;34m(\u001b[0m\u001b[0mx_axis\u001b[0m\u001b[0;34m,\u001b[0m \u001b[0mp_up\u001b[0m\u001b[0;34m)\u001b[0m\u001b[0;34m:\u001b[0m\u001b[0;34m\u001b[0m\u001b[0;34m\u001b[0m\u001b[0m\n\u001b[0;32m-> 1652\u001b[0;31m     \u001b[0;32mimport\u001b[0m \u001b[0mcsaps\u001b[0m\u001b[0;34m\u001b[0m\u001b[0;34m\u001b[0m\u001b[0m\n\u001b[0m\u001b[1;32m   1653\u001b[0m     \u001b[0mspl\u001b[0m \u001b[0;34m=\u001b[0m \u001b[0mcsaps\u001b[0m\u001b[0;34m.\u001b[0m\u001b[0mCubicSmoothingSpline\u001b[0m\u001b[0;34m(\u001b[0m\u001b[0mx_axis\u001b[0m\u001b[0;34m,\u001b[0m \u001b[0mp_up\u001b[0m\u001b[0;34m,\u001b[0m \u001b[0msmooth\u001b[0m\u001b[0;34m=\u001b[0m\u001b[0;36m0.005\u001b[0m\u001b[0;34m)\u001b[0m\u001b[0;34m\u001b[0m\u001b[0;34m\u001b[0m\u001b[0m\n\u001b[1;32m   1654\u001b[0m     \u001b[0;31m# spl = UnivariateSpline(x_axis, p_up, s=3)\u001b[0m\u001b[0;34m\u001b[0m\u001b[0;34m\u001b[0m\u001b[0;34m\u001b[0m\u001b[0m\n",
      "\u001b[0;31mModuleNotFoundError\u001b[0m: No module named 'csaps'"
     ]
    }
   ],
   "source": [
    "xx, yy, distance, profile, ax,plt = pEXP.plot_line(Xs, Ys, U ,p1_s,p2_s, \n",
    "                                            interp=False,\n",
    "                                            x_resolution = interp_size,\n",
    "                                            smooth=smooth, \n",
    "                                            xaxis = x_axis,\n",
    "                                            Vminmax=[0,0.35],\n",
    "                                            limx=[100,650],\n",
    "                                            limy=[100,650],\n",
    "                                            showfig=True)\n",
    "plt.savefig('profile' + savename + '.png', dpi=450)\n"
   ]
  },
  {
   "cell_type": "markdown",
   "id": "interim-participant",
   "metadata": {},
   "source": [
    "As the potential field is scattered, the data are filtered given a choice of different algoritm. For this study, the CubicSmoothingSpline is selected"
   ]
  },
  {
   "cell_type": "markdown",
   "id": "joint-equilibrium",
   "metadata": {},
   "source": [
    "### Plot mirrored field"
   ]
  },
  {
   "cell_type": "code",
   "execution_count": 8,
   "id": "entertaining-consequence",
   "metadata": {
    "iooxa": {
     "id": {
      "block": "Z1d4ZWU7y5EgsX4HR3n3",
      "project": "GIJhmq4sVzNS98jxv097",
      "version": 1
     },
     "outputId": null
    }
   },
   "outputs": [
    {
     "data": {
      "image/png": "[encoded data removed]",
      "text/plain": [
       "<Figure size 432x288 with 2 Axes>"
      ]
     },
     "metadata": {
      "needs_background": "light"
     },
     "output_type": "display_data"
    },
    {
     "data": {
      "image/png": "[encoded data removed]",
      "text/plain": [
       "<Figure size 432x288 with 1 Axes>"
      ]
     },
     "metadata": {
      "needs_background": "light"
     },
     "output_type": "display_data"
    }
   ],
   "source": [
    "ax, plt = pEXP.plot_field(Xs,Ys,U, shape,Vminmax=[0,0.0125])\n",
    "ax.plot(coords_liner_s[2:5,0],coords_liner_s[2:5,1],'k')\n",
    "plt.axis('square')\n",
    "plt.xlim(300,500)\n",
    "plt.ylim(300,500)\n",
    "plt.savefig('publi_mirror' + savename + '.png', dpi=450)\n"
   ]
  },
  {
   "cell_type": "code",
   "execution_count": 9,
   "id": "anonymous-gross",
   "metadata": {
    "iooxa": {
     "id": {
      "block": "oDxMW6G4hWzY1Nev3KNX",
      "project": "GIJhmq4sVzNS98jxv097",
      "version": 1
     },
     "outputId": null
    }
   },
   "outputs": [],
   "source": [
    "#%% ------------------------------- Pad the edges of grids\n",
    "\n",
    "# xp,yp,U, shape = dEXP.pad_edges(xp,yp,U,shape,pad_type=0) # reflexion=5\n",
    "# pEXP.plot_line(xp, yp,U,p1,p2, interp=interp)   "
   ]
  },
  {
   "cell_type": "markdown",
   "id": "latest-mexico",
   "metadata": {
    "iooxa": {
     "id": {
      "block": "ukKhXxvm9iJcCPW097a4",
      "project": "GIJhmq4sVzNS98jxv097",
      "version": 1
     }
    }
   },
   "source": [
    "### Compute the derivatives\n",
    "Uncomment to plot the derivatives"
   ]
  },
  {
   "cell_type": "code",
   "execution_count": 10,
   "id": "spiritual-kitty",
   "metadata": {
    "iooxa": {
     "id": {
      "block": "rBVx7YPbDTEfsnL7qSJW",
      "project": "GIJhmq4sVzNS98jxv097",
      "version": 1
     },
     "outputId": null
    }
   },
   "outputs": [],
   "source": [
    "xderiv = transform.derivx(Xs, Ys, U, shape,order=0)\n",
    "yderiv = transform.derivy(Xs, Ys, U, shape,order=0)\n",
    "zderiv = transform.derivz(Xs, Ys, U, shape,order=0)\n",
    "\n",
    "# interp = True\n",
    "#pEXP.plot_line(Xs, Ys, xderiv ,p1_s,p2_s,title='xderiv',x_resolution= interp_size,\n",
    "#                savefig=False, interp=interp, smooth=smooth,  Xaxis=x_axis)\n",
    "\n",
    "#plt.savefig('xderiv' + savename + '.png', dpi=450)\n",
    "\n",
    "#pEXP.plot_line(Xs, Ys, yderiv ,p1_s,p2_s,title='yderiv',x_resolution= interp_size,\n",
    "#                savefig=False, interp=interp, smooth=smooth,  Xaxis=x_axis)\n",
    "\n",
    "#plt.savefig('yderiv' + savename + '.png', dpi=450)\n",
    "\n",
    "#pEXP.plot_line(Xs, Ys, zderiv ,p1_s,p2_s,title='zderiv',x_resolution= interp_size,\n",
    "#                savefig=False, interp=interp, smooth=smooth,  Xaxis=x_axis)\n",
    "\n",
    "#plt.savefig('zderiv' + savename + '.png', dpi=450)"
   ]
  },
  {
   "cell_type": "markdown",
   "id": "moderate-silicon",
   "metadata": {
    "iooxa": {
     "id": {
      "block": "SqTvR7SWuWEWPKYL0Jlj",
      "project": "GIJhmq4sVzNS98jxv097",
      "version": 1
     },
     "outputId": {
      "block": "W7QRWDWJuu8LeXKYqh5h",
      "project": "GIJhmq4sVzNS98jxv097",
      "version": 1
     }
    }
   },
   "source": [
    "### Upward continuation of the field data"
   ]
  },
  {
   "cell_type": "code",
   "execution_count": 11,
   "id": "reasonable-minister",
   "metadata": {
    "iooxa": {
     "id": {
      "block": "aohVouVhWzpbEoL6Gcfv",
      "project": "GIJhmq4sVzNS98jxv097",
      "version": 1
     }
    }
   },
   "outputs": [
    {
     "name": "stderr",
     "output_type": "stream",
     "text": [
      "/home/ben/Documents/GitHub/BenjMy/dEXP_imaging/fatiando/gravmag/transform.py:182: UserWarning: Using 'height' <= 0 means downward continuation, which is known to be unstable.\n",
      "  warnings.warn(\"Using 'height' <= 0 means downward continuation, \" +\n"
     ]
    },
    {
     "name": "stdout",
     "output_type": "stream",
     "text": [
      "[369.7078036686871]\n",
      "[array([369.70780367, 110.22526131]), array([369.70780367, 626.30410108])]\n",
      "need to rotate first\n",
      "paxis=[369.7078036686871]\n"
     ]
    },
    {
     "data": {
      "image/png": "[encoded data removed]",
      "text/plain": [
       "<Figure size 432x288 with 1 Axes>"
      ]
     },
     "metadata": {
      "needs_background": "light"
     },
     "output_type": "display_data"
    },
    {
     "data": {
      "image/png": "[encoded data removed]",
      "text/plain": [
       "<Figure size 432x288 with 2 Axes>"
      ]
     },
     "metadata": {
      "needs_background": "light"
     },
     "output_type": "display_data"
    }
   ],
   "source": [
    "p = [p1_s,p2_s]\n",
    "\n",
    "mesh, label_prop = dEXP.upwc(Xs, Ys, zp, U, shape, \n",
    "                  zmin=0, zmax=max_elevation, nlayers=nlay, \n",
    "                  qorder=qorder)\n",
    "\n",
    "plt, cmap = pEXP.plot_xy(mesh, label=label_prop,Xaxis=x_axis,\n",
    "                         Vminmax=[0,0.0125], p1p2=p)\n",
    "\n",
    "cbar = plt.colorbar(cmap,shrink=0.7)\n",
    "cbar.set_label('upwc voltage (V)')\n",
    "plt.tight_layout()\n",
    "plt.savefig('upwc voltage' + savename + '.png', dpi=450)"
   ]
  },
  {
   "cell_type": "markdown",
   "id": "popular-system",
   "metadata": {
    "iooxa": {
     "id": {
      "block": "xmuw6sMbrEWm6CKlldDi",
      "project": "GIJhmq4sVzNS98jxv097",
      "version": 1
     }
    }
   },
   "source": [
    " ### DEXP ratio"
   ]
  },
  {
   "cell_type": "code",
   "execution_count": 12,
   "id": "responsible-agreement",
   "metadata": {
    "iooxa": {
     "id": {
      "block": "2hRExFOR8q03Pwu1vmeZ",
      "project": "GIJhmq4sVzNS98jxv097",
      "version": 2
     },
     "outputId": {
      "block": "8Ut2i26zJlkqcnslUwxO",
      "project": "GIJhmq4sVzNS98jxv097",
      "version": 2
     }
    }
   },
   "outputs": [
    {
     "name": "stdout",
     "output_type": "stream",
     "text": [
      "[369.7078036686871]\n",
      "[[369.70780367 110.22526131]\n",
      " [369.70780367 626.30410108]]\n",
      "need to rotate first\n",
      "paxis=[369.7078036686871]\n",
      "Markermax_z=10.799999999999999\n",
      "Markermax_x=367.71203023085985\n"
     ]
    },
    {
     "data": {
      "image/png": "[encoded data removed]",
      "text/plain": [
       "<Figure size 504x108 with 1 Axes>"
      ]
     },
     "metadata": {
      "needs_background": "light"
     },
     "output_type": "display_data"
    },
    {
     "data": {
      "image/png": "[encoded data removed]",
      "text/plain": [
       "<Figure size 432x288 with 2 Axes>"
      ]
     },
     "metadata": {
      "needs_background": "light"
     },
     "output_type": "display_data"
    }
   ],
   "source": [
    "qratio = [1,0]\n",
    "mesh_dexp, label_dexp = dEXP.dEXP_ratio(Xs, Ys, zp, U, shape, \n",
    "                  zmin=0, zmax=max_elevation, nlayers=nlay, \n",
    "                  qorders=qratio)\n",
    "fig = plt.figure(figsize=(7,1.5))\n",
    "ax = plt.gca()\n",
    "plt, cmap = pEXP.plot_xy(mesh_dexp, label=label_dexp,\n",
    "              markerMax=True,qratio=str(qratio),Vminmax=[0,0.075],\n",
    "              p1p2=np.array([p1_s,p2_s]), ax=ax, Xaxis=x_axis,\n",
    "              aspect_equal=True)\n",
    "\n",
    "cbar = plt.colorbar(cmap,shrink=0.7)\n",
    "cbar.set_label('ratio\\nvoltage (V)')\n",
    "\n",
    "plt.xlim([200,600])\n",
    "plt.savefig('fig6_ratios_' + savename + '.png', dpi=450, bbox_inches = \"tight\")"
   ]
  },
  {
   "cell_type": "markdown",
   "id": "previous-sewing",
   "metadata": {},
   "source": [
    "### Ridges identification using the find_peaks algoritm\n",
    "Put showfig=True to see the maximum identification"
   ]
  },
  {
   "cell_type": "code",
   "execution_count": 13,
   "id": "distinct-cattle",
   "metadata": {},
   "outputs": [
    {
     "ename": "ModuleNotFoundError",
     "evalue": "No module named 'csaps'",
     "output_type": "error",
     "traceback": [
      "\u001b[0;31m---------------------------------------------------------------------------\u001b[0m",
      "\u001b[0;31mModuleNotFoundError\u001b[0m                       Traceback (most recent call last)",
      "\u001b[0;32m/tmp/ipykernel_375098/1628077767.py\u001b[0m in \u001b[0;36m<module>\u001b[0;34m\u001b[0m\n\u001b[0;32m----> 1\u001b[0;31m dEXP.ridges_minmax_plot(Xs, Ys, mesh, p1_s, p2_s,\n\u001b[0m\u001b[1;32m      2\u001b[0m                                       \u001b[0mlabel\u001b[0m\u001b[0;34m=\u001b[0m\u001b[0mlabel_prop\u001b[0m\u001b[0;34m,\u001b[0m\u001b[0;34m\u001b[0m\u001b[0;34m\u001b[0m\u001b[0m\n\u001b[1;32m      3\u001b[0m                                       \u001b[0minterp\u001b[0m\u001b[0;34m=\u001b[0m\u001b[0minterp\u001b[0m\u001b[0;34m,\u001b[0m\u001b[0mx_resolution\u001b[0m\u001b[0;34m=\u001b[0m \u001b[0minterp_size\u001b[0m\u001b[0;34m,\u001b[0m\u001b[0;34m\u001b[0m\u001b[0;34m\u001b[0m\u001b[0m\n\u001b[1;32m      4\u001b[0m                                       \u001b[0msmooth\u001b[0m\u001b[0;34m=\u001b[0m\u001b[0msmooth\u001b[0m\u001b[0;34m,\u001b[0m\u001b[0;34m\u001b[0m\u001b[0;34m\u001b[0m\u001b[0m\n\u001b[1;32m      5\u001b[0m                                       \u001b[0mfix_peak_nb\u001b[0m\u001b[0;34m=\u001b[0m\u001b[0;36m2\u001b[0m\u001b[0;34m,\u001b[0m\u001b[0;34m\u001b[0m\u001b[0;34m\u001b[0m\u001b[0m\n",
      "\u001b[0;32m~/Documents/GitHub/BenjMy/dEXP_imaging/lib/dEXP.py\u001b[0m in \u001b[0;36mridges_minmax_plot\u001b[0;34m(x, y, mesh, p1, p2, qorder, z, fix_peak_nb, label, interp, smooth, showfig, **kwargs)\u001b[0m\n\u001b[1;32m    124\u001b[0m             \u001b[0mxx\u001b[0m\u001b[0;34m,\u001b[0m \u001b[0myy\u001b[0m\u001b[0;34m,\u001b[0m \u001b[0mdistance\u001b[0m\u001b[0;34m,\u001b[0m \u001b[0mp_up_f_d1x\u001b[0m \u001b[0;34m=\u001b[0m \u001b[0mgridder\u001b[0m\u001b[0;34m.\u001b[0m\u001b[0mprofile\u001b[0m\u001b[0;34m(\u001b[0m\u001b[0mx\u001b[0m\u001b[0;34m,\u001b[0m \u001b[0my\u001b[0m\u001b[0;34m,\u001b[0m \u001b[0mup_f_d1x\u001b[0m\u001b[0;34m,\u001b[0m \u001b[0mp1\u001b[0m\u001b[0;34m,\u001b[0m \u001b[0mp2\u001b[0m\u001b[0;34m,\u001b[0m \u001b[0mx_resolution\u001b[0m\u001b[0;34m)\u001b[0m\u001b[0;34m\u001b[0m\u001b[0;34m\u001b[0m\u001b[0m\n\u001b[1;32m    125\u001b[0m         \u001b[0;32melse\u001b[0m\u001b[0;34m:\u001b[0m\u001b[0;34m\u001b[0m\u001b[0;34m\u001b[0m\u001b[0m\n\u001b[0;32m--> 126\u001b[0;31m             \u001b[0mxx\u001b[0m\u001b[0;34m,\u001b[0m \u001b[0myy\u001b[0m\u001b[0;34m,\u001b[0m \u001b[0mdistance\u001b[0m\u001b[0;34m,\u001b[0m \u001b[0mp_up_f_d1x\u001b[0m\u001b[0;34m,\u001b[0m \u001b[0mp_up_f_d1x_dict\u001b[0m  \u001b[0;34m=\u001b[0m \u001b[0mprofile_noInter\u001b[0m\u001b[0;34m(\u001b[0m\u001b[0mx\u001b[0m\u001b[0;34m,\u001b[0m \u001b[0my\u001b[0m\u001b[0;34m,\u001b[0m \u001b[0mup_f_d1x\u001b[0m\u001b[0;34m,\u001b[0m \u001b[0mp1\u001b[0m\u001b[0;34m,\u001b[0m \u001b[0mp2\u001b[0m\u001b[0;34m,\u001b[0m \u001b[0mx_resolution\u001b[0m\u001b[0;34m,\u001b[0m \u001b[0mshowfig\u001b[0m\u001b[0;34m=\u001b[0m\u001b[0;32mFalse\u001b[0m\u001b[0;34m)\u001b[0m\u001b[0;34m\u001b[0m\u001b[0;34m\u001b[0m\u001b[0m\n\u001b[0m\u001b[1;32m    127\u001b[0m \u001b[0;34m\u001b[0m\u001b[0m\n\u001b[1;32m    128\u001b[0m         \u001b[0;32mif\u001b[0m \u001b[0mXaxis\u001b[0m \u001b[0;32mis\u001b[0m \u001b[0;34m'dist'\u001b[0m\u001b[0;34m:\u001b[0m\u001b[0;34m\u001b[0m\u001b[0;34m\u001b[0m\u001b[0m\n",
      "\u001b[0;32m~/Documents/GitHub/BenjMy/dEXP_imaging/lib/dEXP.py\u001b[0m in \u001b[0;36mprofile_noInter\u001b[0;34m(x, y, v, point1, point2, size, **kwargs)\u001b[0m\n\u001b[1;32m   1508\u001b[0m         \u001b[0mvp\u001b[0m\u001b[0;34m.\u001b[0m\u001b[0mappend\u001b[0m\u001b[0;34m(\u001b[0m\u001b[0mv\u001b[0m\u001b[0;34m[\u001b[0m\u001b[0mind\u001b[0m\u001b[0;34m]\u001b[0m\u001b[0;34m)\u001b[0m\u001b[0;34m\u001b[0m\u001b[0;34m\u001b[0m\u001b[0m\n\u001b[1;32m   1509\u001b[0m \u001b[0;34m\u001b[0m\u001b[0m\n\u001b[0;32m-> 1510\u001b[0;31m     \u001b[0mvp_smooth_dict\u001b[0m \u001b[0;34m=\u001b[0m \u001b[0m_smooth_allfcts\u001b[0m\u001b[0;34m(\u001b[0m\u001b[0mxaxis\u001b[0m\u001b[0;34m,\u001b[0m\u001b[0mvp\u001b[0m\u001b[0;34m,\u001b[0m\u001b[0mshowfig\u001b[0m\u001b[0;34m)\u001b[0m\u001b[0;34m\u001b[0m\u001b[0;34m\u001b[0m\u001b[0m\n\u001b[0m\u001b[1;32m   1511\u001b[0m \u001b[0;34m\u001b[0m\u001b[0m\n\u001b[1;32m   1512\u001b[0m     \u001b[0;32mreturn\u001b[0m \u001b[0mxp\u001b[0m\u001b[0;34m,\u001b[0m \u001b[0myp\u001b[0m\u001b[0;34m,\u001b[0m \u001b[0mdistances\u001b[0m\u001b[0;34m,\u001b[0m \u001b[0mvp\u001b[0m\u001b[0;34m,\u001b[0m \u001b[0mvp_smooth_dict\u001b[0m\u001b[0;34m\u001b[0m\u001b[0;34m\u001b[0m\u001b[0m\n",
      "\u001b[0;32m~/Documents/GitHub/BenjMy/dEXP_imaging/lib/dEXP.py\u001b[0m in \u001b[0;36m_smooth_allfcts\u001b[0;34m(xaxis, vp, showfig)\u001b[0m\n\u001b[1;32m   1535\u001b[0m \u001b[0;34m\u001b[0m\u001b[0m\n\u001b[1;32m   1536\u001b[0m     \u001b[0mvp_smooth_1\u001b[0m \u001b[0;34m=\u001b[0m \u001b[0m_smooth1d\u001b[0m\u001b[0;34m(\u001b[0m\u001b[0mxaxis\u001b[0m\u001b[0;34m,\u001b[0m\u001b[0mvp\u001b[0m\u001b[0;34m)\u001b[0m\u001b[0;34m\u001b[0m\u001b[0;34m\u001b[0m\u001b[0m\n\u001b[0;32m-> 1537\u001b[0;31m     \u001b[0mvp_smooth_2\u001b[0m \u001b[0;34m=\u001b[0m \u001b[0m_smooth1d_old\u001b[0m\u001b[0;34m(\u001b[0m\u001b[0mxaxis\u001b[0m\u001b[0;34m,\u001b[0m\u001b[0mvp\u001b[0m\u001b[0;34m)\u001b[0m\u001b[0;34m\u001b[0m\u001b[0;34m\u001b[0m\u001b[0m\n\u001b[0m\u001b[1;32m   1538\u001b[0m     \u001b[0mvp_smooth_3\u001b[0m \u001b[0;34m=\u001b[0m \u001b[0m_smooth_lowpass\u001b[0m\u001b[0;34m(\u001b[0m\u001b[0mxaxis\u001b[0m\u001b[0;34m,\u001b[0m\u001b[0mvp_smooth_1\u001b[0m\u001b[0;34m)\u001b[0m\u001b[0;34m\u001b[0m\u001b[0;34m\u001b[0m\u001b[0m\n\u001b[1;32m   1539\u001b[0m \u001b[0;34m\u001b[0m\u001b[0m\n",
      "\u001b[0;32m~/Documents/GitHub/BenjMy/dEXP_imaging/lib/dEXP.py\u001b[0m in \u001b[0;36m_smooth1d_old\u001b[0;34m(x_axis, p_up)\u001b[0m\n\u001b[1;32m   1650\u001b[0m \u001b[0;34m\u001b[0m\u001b[0m\n\u001b[1;32m   1651\u001b[0m \u001b[0;32mdef\u001b[0m \u001b[0m_smooth1d_old\u001b[0m\u001b[0;34m(\u001b[0m\u001b[0mx_axis\u001b[0m\u001b[0;34m,\u001b[0m \u001b[0mp_up\u001b[0m\u001b[0;34m)\u001b[0m\u001b[0;34m:\u001b[0m\u001b[0;34m\u001b[0m\u001b[0;34m\u001b[0m\u001b[0m\n\u001b[0;32m-> 1652\u001b[0;31m     \u001b[0;32mimport\u001b[0m \u001b[0mcsaps\u001b[0m\u001b[0;34m\u001b[0m\u001b[0;34m\u001b[0m\u001b[0m\n\u001b[0m\u001b[1;32m   1653\u001b[0m     \u001b[0mspl\u001b[0m \u001b[0;34m=\u001b[0m \u001b[0mcsaps\u001b[0m\u001b[0;34m.\u001b[0m\u001b[0mCubicSmoothingSpline\u001b[0m\u001b[0;34m(\u001b[0m\u001b[0mx_axis\u001b[0m\u001b[0;34m,\u001b[0m \u001b[0mp_up\u001b[0m\u001b[0;34m,\u001b[0m \u001b[0msmooth\u001b[0m\u001b[0;34m=\u001b[0m\u001b[0;36m0.005\u001b[0m\u001b[0;34m)\u001b[0m\u001b[0;34m\u001b[0m\u001b[0;34m\u001b[0m\u001b[0m\n\u001b[1;32m   1654\u001b[0m     \u001b[0;31m# spl = UnivariateSpline(x_axis, p_up, s=3)\u001b[0m\u001b[0;34m\u001b[0m\u001b[0;34m\u001b[0m\u001b[0;34m\u001b[0m\u001b[0m\n",
      "\u001b[0;31mModuleNotFoundError\u001b[0m: No module named 'csaps'"
     ]
    }
   ],
   "source": [
    "dEXP.ridges_minmax_plot(Xs, Ys, mesh, p1_s, p2_s,\n",
    "                                      label=label_prop,\n",
    "                                      interp=interp,x_resolution= interp_size,\n",
    "                                      smooth=smooth,\n",
    "                                      fix_peak_nb=2,\n",
    "                                      method_peak='find_peaks',\n",
    "                                      showfig=False,\n",
    "                                      Xaxis=x_axis)  \n",
    "\n",
    "D = dEXP.ridges_minmax(Xs, Ys, mesh, p1_s, p2_s,\n",
    "                                      label=label_prop,\n",
    "                                      method_peak='find_peaks',\n",
    "                                      fix_peak_nb=2,\n",
    "                                      returnAmp=True,\n",
    "                                      showfig=False,\n",
    "                                      Xaxis=x_axis,\n",
    "                                      interp=interp,x_resolution= interp_size,\n",
    "                                      smooth = smooth,\n",
    "                                      qorder=qorder)  \n",
    "\n",
    "dfI, dfII, dfIII =  D[0:3]\n",
    "hI, hII, hIII  = D[3:6]\n",
    "heights  = D[3:6]"
   ]
  },
  {
   "cell_type": "markdown",
   "id": "informed-compromise",
   "metadata": {},
   "source": [
    "### Plot ridges over continuated section"
   ]
  },
  {
   "cell_type": "code",
   "execution_count": 14,
   "id": "talented-synthesis",
   "metadata": {},
   "outputs": [
    {
     "name": "stdout",
     "output_type": "stream",
     "text": [
      "[369.7078036686871]\n",
      "[array([369.70780367, 110.22526131]), array([369.70780367, 626.30410108])]\n",
      "need to rotate first\n",
      "paxis=[369.7078036686871]\n"
     ]
    },
    {
     "data": {
      "image/png": "[encoded data removed]",
      "text/plain": [
       "<Figure size 504x108 with 1 Axes>"
      ]
     },
     "metadata": {
      "needs_background": "light"
     },
     "output_type": "display_data"
    },
    {
     "ename": "NameError",
     "evalue": "name 'dfI' is not defined",
     "output_type": "error",
     "traceback": [
      "\u001b[0;31m---------------------------------------------------------------------------\u001b[0m",
      "\u001b[0;31mNameError\u001b[0m                                 Traceback (most recent call last)",
      "\u001b[0;32m/tmp/ipykernel_375098/1354658321.py\u001b[0m in \u001b[0;36m<module>\u001b[0;34m\u001b[0m\n\u001b[1;32m      6\u001b[0m \u001b[0mcbar\u001b[0m\u001b[0;34m.\u001b[0m\u001b[0mset_label\u001b[0m\u001b[0;34m(\u001b[0m\u001b[0;34m'upwc voltage (V)'\u001b[0m\u001b[0;34m)\u001b[0m\u001b[0;34m\u001b[0m\u001b[0;34m\u001b[0m\u001b[0m\n\u001b[1;32m      7\u001b[0m \u001b[0mplt\u001b[0m\u001b[0;34m.\u001b[0m\u001b[0mtight_layout\u001b[0m\u001b[0;34m(\u001b[0m\u001b[0;34m)\u001b[0m\u001b[0;34m\u001b[0m\u001b[0;34m\u001b[0m\u001b[0m\n\u001b[0;32m----> 8\u001b[0;31m \u001b[0mpEXP\u001b[0m\u001b[0;34m.\u001b[0m\u001b[0mplot_ridges_harmonic\u001b[0m\u001b[0;34m(\u001b[0m\u001b[0mdfI\u001b[0m\u001b[0;34m,\u001b[0m\u001b[0mdfII\u001b[0m\u001b[0;34m,\u001b[0m\u001b[0mdfIII\u001b[0m\u001b[0;34m,\u001b[0m\u001b[0max\u001b[0m\u001b[0;34m=\u001b[0m\u001b[0max\u001b[0m\u001b[0;34m)\u001b[0m\u001b[0;34m\u001b[0m\u001b[0;34m\u001b[0m\u001b[0m\n\u001b[0m\u001b[1;32m      9\u001b[0m \u001b[0mplt\u001b[0m\u001b[0;34m.\u001b[0m\u001b[0mxlim\u001b[0m\u001b[0;34m(\u001b[0m\u001b[0;34m[\u001b[0m\u001b[0;36m200\u001b[0m\u001b[0;34m,\u001b[0m\u001b[0;36m600\u001b[0m\u001b[0;34m]\u001b[0m\u001b[0;34m)\u001b[0m\u001b[0;34m\u001b[0m\u001b[0;34m\u001b[0m\u001b[0m\n\u001b[1;32m     10\u001b[0m \u001b[0mplt\u001b[0m\u001b[0;34m.\u001b[0m\u001b[0msavefig\u001b[0m\u001b[0;34m(\u001b[0m\u001b[0;34m'ridges_raw_'\u001b[0m \u001b[0;34m+\u001b[0m \u001b[0msavename\u001b[0m \u001b[0;34m+\u001b[0m \u001b[0;34m'.png'\u001b[0m\u001b[0;34m,\u001b[0m \u001b[0mdpi\u001b[0m\u001b[0;34m=\u001b[0m\u001b[0;36m450\u001b[0m\u001b[0;34m)\u001b[0m\u001b[0;34m\u001b[0m\u001b[0;34m\u001b[0m\u001b[0m\n",
      "\u001b[0;31mNameError\u001b[0m: name 'dfI' is not defined"
     ]
    },
    {
     "data": {
      "image/png": "[encoded data removed]",
      "text/plain": [
       "<Figure size 432x288 with 2 Axes>"
      ]
     },
     "metadata": {
      "needs_background": "light"
     },
     "output_type": "display_data"
    }
   ],
   "source": [
    "fig = plt.figure(figsize=(7,1.5))\n",
    "ax = plt.gca()\n",
    "plt, cmap = pEXP.plot_xy(mesh, label=label_prop, ax=ax, Xaxis=x_axis,\n",
    "            Vminmax=[0,0.0125], p1p2=p)\n",
    "cbar = plt.colorbar(cmap,shrink=0.7)\n",
    "cbar.set_label('upwc voltage (V)')\n",
    "plt.tight_layout()\n",
    "pEXP.plot_ridges_harmonic(dfI,dfII,dfIII,ax=ax)\n",
    "plt.xlim([200,600])\n",
    "plt.savefig('ridges_raw_' + savename + '.png', dpi=450)"
   ]
  },
  {
   "cell_type": "markdown",
   "id": "banned-allowance",
   "metadata": {},
   "source": [
    "### filter ridges:\n",
    "- spatially constrainsted in altitude and in longitude (x)\n",
    "- minimum number of points forming a ridge = 5\n",
    "\n",
    "dfI, dfII and dfIII are the dataframe for "
   ]
  },
  {
   "cell_type": "code",
   "execution_count": 15,
   "id": "recorded-irish",
   "metadata": {},
   "outputs": [
    {
     "ename": "NameError",
     "evalue": "name 'dfI' is not defined",
     "output_type": "error",
     "traceback": [
      "\u001b[0;31m---------------------------------------------------------------------------\u001b[0m",
      "\u001b[0;31mNameError\u001b[0m                                 Traceback (most recent call last)",
      "\u001b[0;32m/tmp/ipykernel_375098/1614569238.py\u001b[0m in \u001b[0;36m<module>\u001b[0;34m\u001b[0m\n\u001b[0;32m----> 1\u001b[0;31m dfI_f,dfII_f, dfIII_f = dEXP.filter_ridges(dfI,dfII,dfIII,\n\u001b[0m\u001b[1;32m      2\u001b[0m                                             \u001b[0mminDepth\u001b[0m\u001b[0;34m=\u001b[0m\u001b[0mminAlt_ridge\u001b[0m\u001b[0;34m,\u001b[0m \u001b[0mmaxDepth\u001b[0m\u001b[0;34m=\u001b[0m\u001b[0mmaxAlt_ridge\u001b[0m\u001b[0;34m,\u001b[0m\u001b[0;34m\u001b[0m\u001b[0;34m\u001b[0m\u001b[0m\n\u001b[1;32m      3\u001b[0m                                             \u001b[0mminlength\u001b[0m\u001b[0;34m=\u001b[0m\u001b[0;36m5\u001b[0m\u001b[0;34m,\u001b[0m\u001b[0mrmvNaN\u001b[0m\u001b[0;34m=\u001b[0m\u001b[0;32mTrue\u001b[0m\u001b[0;34m,\u001b[0m\u001b[0;34m\u001b[0m\u001b[0;34m\u001b[0m\u001b[0m\n\u001b[1;32m      4\u001b[0m                                             \u001b[0mxmin\u001b[0m\u001b[0;34m=\u001b[0m\u001b[0;36m100\u001b[0m\u001b[0;34m,\u001b[0m \u001b[0mxmax\u001b[0m\u001b[0;34m=\u001b[0m\u001b[0;36m700\u001b[0m\u001b[0;34m,\u001b[0m\u001b[0;34m\u001b[0m\u001b[0;34m\u001b[0m\u001b[0m\n\u001b[1;32m      5\u001b[0m                                             Xaxis=x_axis)\n",
      "\u001b[0;31mNameError\u001b[0m: name 'dfI' is not defined"
     ]
    }
   ],
   "source": [
    "dfI_f,dfII_f, dfIII_f = dEXP.filter_ridges(dfI,dfII,dfIII,\n",
    "                                            minDepth=minAlt_ridge, maxDepth=maxAlt_ridge,\n",
    "                                            minlength=5,rmvNaN=True,\n",
    "                                            xmin=100, xmax=700,\n",
    "                                            Xaxis=x_axis)\n",
    "\n",
    "df_f = dfI_f, dfII_f, dfIII_f"
   ]
  },
  {
   "cell_type": "markdown",
   "id": "personal-missouri",
   "metadata": {},
   "source": [
    "### plot ridges fitted over continuated section"
   ]
  },
  {
   "cell_type": "code",
   "execution_count": 16,
   "id": "eastern-placement",
   "metadata": {},
   "outputs": [
    {
     "name": "stdout",
     "output_type": "stream",
     "text": [
      "[369.7078036686871]\n",
      "[array([369.70780367, 110.22526131]), array([369.70780367, 626.30410108])]\n",
      "need to rotate first\n",
      "paxis=[369.7078036686871]\n"
     ]
    },
    {
     "data": {
      "image/png": "[encoded data removed]",
      "text/plain": [
       "<Figure size 504x108 with 1 Axes>"
      ]
     },
     "metadata": {
      "needs_background": "light"
     },
     "output_type": "display_data"
    },
    {
     "ename": "NameError",
     "evalue": "name 'dfI_f' is not defined",
     "output_type": "error",
     "traceback": [
      "\u001b[0;31m---------------------------------------------------------------------------\u001b[0m",
      "\u001b[0;31mNameError\u001b[0m                                 Traceback (most recent call last)",
      "\u001b[0;32m/tmp/ipykernel_375098/1759756503.py\u001b[0m in \u001b[0;36m<module>\u001b[0;34m\u001b[0m\n\u001b[1;32m      3\u001b[0m plt, cmap = pEXP.plot_xy(mesh, label=label_prop, ax=ax1, Xaxis=x_axis,\n\u001b[1;32m      4\u001b[0m               Vminmax=[0,0.0125], p1p2=p)\n\u001b[0;32m----> 5\u001b[0;31m \u001b[0mpEXP\u001b[0m\u001b[0;34m.\u001b[0m\u001b[0mplot_ridges_harmonic\u001b[0m\u001b[0;34m(\u001b[0m\u001b[0mdfI_f\u001b[0m\u001b[0;34m,\u001b[0m\u001b[0mdfII_f\u001b[0m\u001b[0;34m,\u001b[0m\u001b[0mdfIII_f\u001b[0m\u001b[0;34m,\u001b[0m\u001b[0max\u001b[0m\u001b[0;34m=\u001b[0m\u001b[0max1\u001b[0m\u001b[0;34m,\u001b[0m\u001b[0mlabel\u001b[0m\u001b[0;34m=\u001b[0m\u001b[0;32mTrue\u001b[0m\u001b[0;34m)\u001b[0m\u001b[0;34m\u001b[0m\u001b[0;34m\u001b[0m\u001b[0m\n\u001b[0m\u001b[1;32m      6\u001b[0m \u001b[0;34m\u001b[0m\u001b[0m\n\u001b[1;32m      7\u001b[0m \u001b[0mdf_fit\u001b[0m \u001b[0;34m=\u001b[0m \u001b[0mdEXP\u001b[0m\u001b[0;34m.\u001b[0m\u001b[0mfit_ridges\u001b[0m\u001b[0;34m(\u001b[0m\u001b[0mdf_f\u001b[0m\u001b[0;34m,\u001b[0m \u001b[0mrmvOutliers\u001b[0m\u001b[0;34m=\u001b[0m\u001b[0;32mTrue\u001b[0m\u001b[0;34m)\u001b[0m \u001b[0;31m# fit ridges on filtered data\u001b[0m\u001b[0;34m\u001b[0m\u001b[0;34m\u001b[0m\u001b[0m\n",
      "\u001b[0;31mNameError\u001b[0m: name 'dfI_f' is not defined"
     ]
    }
   ],
   "source": [
    "fig, ax1 = plt.subplots(figsize=(7,1.5))\n",
    "\n",
    "plt, cmap = pEXP.plot_xy(mesh, label=label_prop, ax=ax1, Xaxis=x_axis,\n",
    "              Vminmax=[0,0.0125], p1p2=p)\n",
    "pEXP.plot_ridges_harmonic(dfI_f,dfII_f,dfIII_f,ax=ax1,label=True)\n",
    "\n",
    "df_fit = dEXP.fit_ridges(df_f, rmvOutliers=True) # fit ridges on filtered data\n",
    "\n",
    "ax2 = pEXP.plot_ridges_sources(df_fit, ax=ax1, z_max_source=-max_elevation*2,\n",
    "                          ridge_type=[0,1,2],ridge_nb=None)\n",
    "\n",
    "\n",
    "cbar = plt.colorbar(cmap,shrink=0.7)\n",
    "cbar.set_label('upwc\\nvoltage\\n($V.m^2$)',fontsize=12)\n",
    "plt.tight_layout()\n",
    "#pEXP.plot_ridges_harmonic(dfI,dfII,dfIII,ax=ax1)\n",
    "plt.xlim([200,600])\n",
    "ax1.set_ylim([0,30])\n",
    "ax2.set_ylim([-3000,0])\n",
    "\n",
    "labels_ax1 = ax1.get_yticks() \n",
    "labels_ax1= labels_ax1[labels_ax1>0]\n",
    "\n",
    "labels_ax2 = ax2.get_yticks() \n",
    "labels_ax2= labels_ax2[labels_ax2<0]\n",
    "\n",
    "ax1.set_yticks(labels_ax1)\n",
    "ax2.set_yticks(labels_ax2)\n",
    "ax1.set_xlabel('y(m)')\n",
    "\n",
    "# Adjust the plotting range of two y axes\n",
    "org1 = 0.0  # Origin of first axis\n",
    "org2 = 0.0  # Origin of second axis\n",
    "pos = 0.5  # Position the two origins are aligned\n",
    "align.yaxes(ax1, org1, ax2, org2, pos)\n",
    "\n",
    "    \n",
    "plt.savefig('fig6_geom_' + savename + '.png', dpi=450)"
   ]
  },
  {
   "cell_type": "code",
   "execution_count": null,
   "id": "4d02b5f5-7fba-48e8-8f02-7138ed76b668",
   "metadata": {},
   "outputs": [],
   "source": []
  },
  {
   "cell_type": "code",
   "execution_count": null,
   "id": "0f9a7fed-409b-47a3-ad0d-616f0739b153",
   "metadata": {},
   "outputs": [],
   "source": []
  }
 ],
 "metadata": {
  "iooxa": {
   "id": {
    "block": "3kVAqzQxETlYwjdduQMy",
    "project": "GIJhmq4sVzNS98jxv097",
    "version": 2
   }
  },
  "kernelspec": {
   "display_name": "Python 3 (ipykernel)",
   "language": "python",
   "name": "python3"
  },
  "language_info": {
   "codemirror_mode": {
    "name": "ipython",
    "version": 3
   },
   "file_extension": ".py",
   "mimetype": "text/x-python",
   "name": "python",
   "nbconvert_exporter": "python",
   "pygments_lexer": "ipython3",
   "version": "3.8.10"
  }
 },
 "nbformat": 4,
 "nbformat_minor": 5
}
