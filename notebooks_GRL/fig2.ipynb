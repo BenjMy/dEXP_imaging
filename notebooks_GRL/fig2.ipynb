{
 "cells": [
  {
   "cell_type": "markdown",
   "id": "caroline-deployment",
   "metadata": {
    "iooxa": {
     "id": {
      "block": "CSaicUmNFJAw7PvCtnx7",
      "project": "GIJhmq4sVzNS98jxv097",
      "version": 3
     }
    }
   },
   "source": [
    "# Notebook to reproduce fig. 2a of the DEXP manuscript"
   ]
  },
  {
   "cell_type": "code",
   "execution_count": 1,
   "id": "binding-playback",
   "metadata": {
    "iooxa": {
     "id": {
      "block": "N8uuMpUxH4fGgWZMwEwh",
      "project": "GIJhmq4sVzNS98jxv097",
      "version": 3
     },
     "outputId": {
      "block": "KkI6FB6WNqTkv2YmF2Yv",
      "project": "GIJhmq4sVzNS98jxv097",
      "version": 3
     }
    }
   },
   "outputs": [
    {
     "name": "stdout",
     "output_type": "stream",
     "text": [
      "Collecting git+https://github.com/BenjMy/dEXP_imaging\n",
      "  Cloning https://github.com/BenjMy/dEXP_imaging to /tmp/pip-req-build-edk8o4ee\n",
      "  Running command git clone -q https://github.com/BenjMy/dEXP_imaging /tmp/pip-req-build-edk8o4ee\n",
      "  Resolved https://github.com/BenjMy/dEXP_imaging to commit 6a721026d214d40960a7d3c9cc2af9aed48e3271\n"
     ]
    }
   ],
   "source": [
    "# clone github\n",
    "!pip install git+https://github.com/BenjMy/dEXP_imaging\n",
    "import numpy as np\n",
    "import matplotlib.pyplot as plt\n",
    "from matplotlib.ticker import FormatStrFormatter\n",
    "plt.rcParams['font.size'] = 15"
   ]
  },
  {
   "cell_type": "code",
   "execution_count": 3,
   "id": "accessible-covering",
   "metadata": {
    "iooxa": {
     "id": {
      "block": "tnMog4uMbUrjoHpfcnV2",
      "project": "GIJhmq4sVzNS98jxv097",
      "version": 3
     },
     "outputId": {
      "block": "cXoH7V3j1PbFz5Zh6wQg",
      "project": "GIJhmq4sVzNS98jxv097",
      "version": 3
     }
    }
   },
   "outputs": [
    {
     "ename": "ModuleNotFoundError",
     "evalue": "No module named 'lib'",
     "output_type": "error",
     "traceback": [
      "\u001b[0;31m---------------------------------------------------------------------------\u001b[0m",
      "\u001b[0;31mModuleNotFoundError\u001b[0m                       Traceback (most recent call last)",
      "\u001b[0;32m/tmp/ipykernel_401835/4037736537.py\u001b[0m in \u001b[0;36m<module>\u001b[0;34m\u001b[0m\n\u001b[1;32m      1\u001b[0m \u001b[0;31m# my own functions\u001b[0m\u001b[0;34m\u001b[0m\u001b[0;34m\u001b[0m\u001b[0;34m\u001b[0m\u001b[0m\n\u001b[0;32m----> 2\u001b[0;31m \u001b[0;32mimport\u001b[0m \u001b[0mlib\u001b[0m\u001b[0;34m.\u001b[0m\u001b[0mdEXP\u001b[0m \u001b[0;32mas\u001b[0m \u001b[0mdEXP\u001b[0m\u001b[0;34m\u001b[0m\u001b[0;34m\u001b[0m\u001b[0m\n\u001b[0m\u001b[1;32m      3\u001b[0m \u001b[0;32mimport\u001b[0m \u001b[0mlib\u001b[0m\u001b[0;34m.\u001b[0m\u001b[0mplot_dEXP\u001b[0m \u001b[0;32mas\u001b[0m \u001b[0mpEXP\u001b[0m\u001b[0;34m\u001b[0m\u001b[0;34m\u001b[0m\u001b[0m\n\u001b[1;32m      4\u001b[0m \u001b[0;32mimport\u001b[0m \u001b[0mlib\u001b[0m\u001b[0;34m.\u001b[0m\u001b[0mload_examples\u001b[0m \u001b[0;32mas\u001b[0m \u001b[0mload\u001b[0m\u001b[0;34m\u001b[0m\u001b[0;34m\u001b[0m\u001b[0m\n\u001b[1;32m      5\u001b[0m \u001b[0;32mimport\u001b[0m \u001b[0mlib\u001b[0m\u001b[0;34m.\u001b[0m\u001b[0mexamples\u001b[0m\u001b[0;34m.\u001b[0m\u001b[0mgravimetry\u001b[0m\u001b[0;34m.\u001b[0m\u001b[0mloadgrav\u001b[0m\u001b[0;34m.\u001b[0m\u001b[0mgrav_models\u001b[0m \u001b[0;32mas\u001b[0m \u001b[0mgrav\u001b[0m\u001b[0;34m\u001b[0m\u001b[0;34m\u001b[0m\u001b[0m\n",
      "\u001b[0;31mModuleNotFoundError\u001b[0m: No module named 'lib'"
     ]
    }
   ],
   "source": [
    "# my own functions\n",
    "import lib.dEXP as dEXP\n",
    "import lib.plot_dEXP as pEXP\n",
    "import lib.load_examples as load\n",
    "import lib.examples.gravimetry.loadgrav.grav_models as grav"
   ]
  },
  {
   "cell_type": "code",
   "execution_count": null,
   "id": "surface-exhibition",
   "metadata": {
    "iooxa": {
     "id": {
      "block": "LxNyCDC5m8JvEwez6Hij",
      "project": "GIJhmq4sVzNS98jxv097",
      "version": 1
     },
     "outputId": null
    }
   },
   "outputs": [],
   "source": [
    "from fatiando.gravmag import prism, imaging, transform"
   ]
  },
  {
   "cell_type": "code",
   "execution_count": null,
   "id": "cathedral-tooth",
   "metadata": {
    "iooxa": {
     "id": {
      "block": "8chckylu1R7I390RD5Uo",
      "project": "GIJhmq4sVzNS98jxv097",
      "version": 1
     },
     "outputId": {
      "block": "INWZEs7tNgjRw7sP7oFF",
      "project": "GIJhmq4sVzNS98jxv097",
      "version": 1
     }
    }
   },
   "outputs": [],
   "source": [
    "file2load = load.getExampleFile('gravimetry/loadgrav/za3000_zb3500_l500_ofs0_dens1200.pkl')\n",
    "print(file2load)"
   ]
  },
  {
   "cell_type": "code",
   "execution_count": null,
   "id": "congressional-edgar",
   "metadata": {
    "iooxa": {
     "id": {
      "block": "Z1d4ZWU7y5EgsX4HR3n3",
      "project": "GIJhmq4sVzNS98jxv097",
      "version": 1
     },
     "outputId": null
    }
   },
   "outputs": [],
   "source": [
    "data = grav.load_grav_fatiando(name=file2load)\n",
    "xp,yp,zp,U = data['xyzg']\n",
    "shape = data['shape']\n",
    "model = data['model']\n",
    "dens  = data['density']\n"
   ]
  },
  {
   "cell_type": "code",
   "execution_count": null,
   "id": "challenging-costa",
   "metadata": {
    "iooxa": {
     "id": {
      "block": "oDxMW6G4hWzY1Nev3KNX",
      "project": "GIJhmq4sVzNS98jxv097",
      "version": 1
     },
     "outputId": null
    }
   },
   "outputs": [],
   "source": [
    "x1, x2, y1, y2, z1, z2 = np.array(model[0].get_bounds())"
   ]
  },
  {
   "cell_type": "markdown",
   "id": "smaller-moldova",
   "metadata": {
    "iooxa": {
     "id": {
      "block": "ukKhXxvm9iJcCPW097a4",
      "project": "GIJhmq4sVzNS98jxv097",
      "version": 1
     }
    }
   },
   "source": [
    "Define profile coordinates"
   ]
  },
  {
   "cell_type": "code",
   "execution_count": null,
   "id": "worth-tuition",
   "metadata": {
    "iooxa": {
     "id": {
      "block": "rBVx7YPbDTEfsnL7qSJW",
      "project": "GIJhmq4sVzNS98jxv097",
      "version": 1
     },
     "outputId": null
    }
   },
   "outputs": [],
   "source": [
    "p1 =[0,-6000]\n",
    "p2 =[0,6000]"
   ]
  },
  {
   "cell_type": "code",
   "execution_count": null,
   "id": "reserved-snowboard",
   "metadata": {
    "iooxa": {
     "id": {
      "block": "SqTvR7SWuWEWPKYL0Jlj",
      "project": "GIJhmq4sVzNS98jxv097",
      "version": 1
     },
     "outputId": {
      "block": "W7QRWDWJuu8LeXKYqh5h",
      "project": "GIJhmq4sVzNS98jxv097",
      "version": 1
     }
    }
   },
   "outputs": [],
   "source": [
    "xx, yy, distance, profile, ax, plt = pEXP.plot_line(xp, yp, U,p1,p2, interp=True)"
   ]
  },
  {
   "cell_type": "markdown",
   "id": "suitable-governor",
   "metadata": {
    "iooxa": {
     "id": {
      "block": "aohVouVhWzpbEoL6Gcfv",
      "project": "GIJhmq4sVzNS98jxv097",
      "version": 1
     }
    }
   },
   "source": [
    "Take the z-derivative"
   ]
  },
  {
   "cell_type": "code",
   "execution_count": null,
   "id": "existing-instruction",
   "metadata": {
    "iooxa": {
     "id": {
      "block": "f94senCzNiu7fsFh9gQD",
      "project": "GIJhmq4sVzNS98jxv097",
      "version": 1
     },
     "outputId": {
      "block": "XBYlr5gPPJVw9He6JlIa",
      "project": "GIJhmq4sVzNS98jxv097",
      "version": 1
     }
    }
   },
   "outputs": [],
   "source": [
    "zderiv = transform.derivz(xp, yp, U, shape,order=1)\n",
    "xx, yy, distance, dz, ax, plt = pEXP.plot_line(xp, yp, zderiv, p1,p2, interp=True, title='zderiv')"
   ]
  },
  {
   "cell_type": "markdown",
   "id": "chief-utility",
   "metadata": {
    "iooxa": {
     "id": {
      "block": "xmuw6sMbrEWm6CKlldDi",
      "project": "GIJhmq4sVzNS98jxv097",
      "version": 1
     }
    }
   },
   "source": [
    "Plot field against its 1st vertical derivative"
   ]
  },
  {
   "cell_type": "code",
   "execution_count": null,
   "id": "manufactured-union",
   "metadata": {
    "iooxa": {
     "id": {
      "block": "2hRExFOR8q03Pwu1vmeZ",
      "project": "GIJhmq4sVzNS98jxv097",
      "version": 4
     },
     "outputId": {
      "block": "8Ut2i26zJlkqcnslUwxO",
      "project": "GIJhmq4sVzNS98jxv097",
      "version": 3
     }
    }
   },
   "outputs": [],
   "source": [
    "fig, ax1 = plt.subplots(figsize=(10,2))\n",
    "\n",
    "color = 'tab:red'\n",
    "ax1.set_xlabel('x(m)')\n",
    "ax1.set_ylabel('Amplitude of the\\n potential field (V)', color=color)\n",
    "ax1.plot(xx, profile, color=color, linewidth=4)\n",
    "ax1.tick_params(axis='y', labelcolor=color)\n",
    "\n",
    "ax2 = ax1.twinx()  # instantiate a second axes that shares the same x-axis\n",
    "\n",
    "color = 'tab:blue'\n",
    "ax2.set_ylabel('$1^{st}$ derivative\\n($V.m^2$)', color=color)  # we already handled the x-label with ax1\n",
    "ax2.plot(xx, dz, color=color, linewidth=4)\n",
    "ax2.tick_params(axis='y', labelcolor=color)\n",
    "ax2.set_ylim([-0.0001,3e-4])\n",
    "ax2.yaxis.set_major_formatter(FormatStrFormatter('%1.0e'))\n",
    "\n",
    "#fig.tight_layout()  # otherwise the right y-label is slightly clipped\n",
    "#ax1.set_aspect(aspect=1e4)\n",
    "plt.savefig('fig2.png', dpi=400, bbox_inches = \"tight\")"
   ]
  }
 ],
 "metadata": {
  "iooxa": {
   "id": {
    "block": "3kVAqzQxETlYwjdduQMy",
    "project": "GIJhmq4sVzNS98jxv097",
    "version": 4
   }
  },
  "kernelspec": {
   "display_name": "Python 3 (ipykernel)",
   "language": "python",
   "name": "python3"
  },
  "language_info": {
   "codemirror_mode": {
    "name": "ipython",
    "version": 3
   },
   "file_extension": ".py",
   "mimetype": "text/x-python",
   "name": "python",
   "nbconvert_exporter": "python",
   "pygments_lexer": "ipython3",
   "version": "3.8.10"
  }
 },
 "nbformat": 4,
 "nbformat_minor": 5
}
