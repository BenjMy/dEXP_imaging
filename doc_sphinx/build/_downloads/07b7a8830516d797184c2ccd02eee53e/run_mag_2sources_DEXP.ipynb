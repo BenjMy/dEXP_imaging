{
  "cells": [
    {
      "cell_type": "code",
      "execution_count": null,
      "metadata": {
        "collapsed": false
      },
      "outputs": [],
      "source": [
        "%matplotlib inline"
      ]
    },
    {
      "cell_type": "markdown",
      "metadata": {},
      "source": [
        "\n# Magnetic field data analysis using pyDEXP: a 2-sources case\n\nThis code shows a step-by-step processing of potential field imaging aiming at giving an estimate of magnetic sources positions and depth using the dEXP tranformation method.\ndEXP method implementation from Fedi et al. 2012. \nCalculations used :mod:`dEXP`, while plotting use the :mod:`plot_dEXP` module.\n\nThe model data was created using geometric objects from :mod:`fatiando.mesher`. The forward simulation of the data was done using :mod:`fatiando.gravmag` module.\n\nSources locations:\n    - S_{A} = [10e3,10e3,2e3] # xyz coordinates\n    - S_{B} = [25e3,10e3,1e3]\n\nSources properties: \n    - radius = 1.5e3\n    - inc = 50\n    - dec = -30\n\n<div class=\"alert alert-info\"><h4>Note</h4><p>This is part of a larger project aiming at inverting current sources density (see more at: https://icsd-dev.readthedocs.io/en/latest/)</p></div>\n\n**References**\n\nUieda, L., V. C. Oliveira Jr, and V. C. F. Barbosa (2013), Modeling the Earth with Fatiando a Terra, Proceedings of the 12th Python in Science Conference, pp. 91 - 98.\n\nUieda, L. (2018). Verde: Processing and gridding spatial data using Green's functions. Journal of Open Source Software, 3(29), 957. doi:10.21105/joss.00957\n\nFedi, M., and M. Pilkington (2012), Understanding imaging methods for potential\nfield data, Geophysics, 77(1), G13, doi:10.1190/geo2011-0078.1\n"
      ]
    },
    {
      "cell_type": "code",
      "execution_count": null,
      "metadata": {
        "collapsed": false
      },
      "outputs": [],
      "source": [
        "import matplotlib.pyplot as plt\nimport numpy as np\nimport lib.dEXP as dEXP\nfrom lib.dEXP import _fit\nimport lib.plot_dEXP as pEXP\nimport lib.set_parameters as para\nimport examples.magnetic.fwdmag.fwd_mag_sphere as magfwd"
      ]
    },
    {
      "cell_type": "markdown",
      "metadata": {},
      "source": [
        "Create a model using geometric objects from fatiando.mesher\n\n"
      ]
    },
    {
      "cell_type": "code",
      "execution_count": null,
      "metadata": {
        "collapsed": false
      },
      "outputs": [],
      "source": [
        "xp, yp, zp, U, shape, p1, p2, coord= magfwd.load_mag_synthetic()\nmax_elevation=2*max(coord[:,2])\nscaled, SI, zp, qorder, nlay, minAlt_ridge, maxAlt_ridge = para.set_par(shape=shape,max_elevation=max_elevation)\ninterp = True\nx_axis= 'y'\nqorder = 0"
      ]
    },
    {
      "cell_type": "markdown",
      "metadata": {},
      "source": [
        "Plot field data over a 2d line crossing the anomalies\n\n"
      ]
    },
    {
      "cell_type": "code",
      "execution_count": null,
      "metadata": {
        "collapsed": false
      },
      "outputs": [],
      "source": [
        "pEXP.plot_line(xp, yp, U,p1,p2, interp=True, Xaxis=x_axis)\npEXP.plot_field(xp, yp, U, shape)"
      ]
    },
    {
      "cell_type": "markdown",
      "metadata": {},
      "source": [
        "Upward continuation of the field data with discretisation in altitude controlled by the number of layers (nlay) and the maximum elevation desired (max_elevation)\n\n"
      ]
    },
    {
      "cell_type": "code",
      "execution_count": null,
      "metadata": {
        "collapsed": false
      },
      "outputs": [],
      "source": [
        "mesh, label_prop = dEXP.upwc(xp, yp, zp, U, shape, \n                 zmin=0, zmax=max_elevation, nlayers=nlay, \n                 qorder=qorder)\n\n# plt, cmap = pEXP.plot_xy(mesh, label=label_prop)\n# plt.colorbar(cmap)\nplt, cmap = pEXP.plot_xy(mesh, label=label_prop, Xaxis=x_axis, p1p2=np.array([p1, p2]))\nplt.colorbar(cmap)"
      ]
    },
    {
      "cell_type": "markdown",
      "metadata": {},
      "source": [
        "Ridges identification: plot all extremas obtained via find_peaks function (numpy) for a given altitude\ndEXP.ridges_minmax_plot(xp, yp, mesh, p1, p2,\n                                      label=label_prop,\n                                      method_peak='find_peaks')  \n\n"
      ]
    },
    {
      "cell_type": "code",
      "execution_count": null,
      "metadata": {
        "collapsed": false
      },
      "outputs": [],
      "source": [
        "dEXP.ridges_minmax_plot(xp, yp, mesh, p1, p2,\n                                      label=label_prop,\n                                      method_peak='find_peaks',\n                                      showfig=True,\n                                      interp=True,smooth=True,\n                                      Xaxis=x_axis)"
      ]
    },
    {
      "cell_type": "markdown",
      "metadata": {},
      "source": [
        "Ridges identification at all levels: plot extremas obtained via find_peaks function (numpy) for all 3 types of extremas familly RI, RII and RIII\ndfI,dfII, dfIII = dEXP.ridges_minmax(xp, yp, mesh, p1, p2,\n                                      label=label_prop,\n                                      method_peak='find_peaks')  \n\n"
      ]
    },
    {
      "cell_type": "code",
      "execution_count": null,
      "metadata": {
        "collapsed": false
      },
      "outputs": [],
      "source": [
        "D  = dEXP.ridges_minmax(xp, yp, mesh, p1, p2,\n                                      label=label_prop,\n                                      method_peak='find_peaks',\n                                      qorder=qorder,\n                                      interp=True,smooth=True,\n                                      fix_peak_nb=2,\n                                      returnAmp=True,\n                                      showfig=True,\n                                      Xaxis=x_axis)  \ndfI, dfII, dfIII =  D[0:3]\nhI, hII, hIII  = D[3:6]\nH  = D[3:6]"
      ]
    },
    {
      "cell_type": "markdown",
      "metadata": {},
      "source": [
        "plot filtered ridges fitted over continuated section\n\n"
      ]
    },
    {
      "cell_type": "code",
      "execution_count": null,
      "metadata": {
        "collapsed": false
      },
      "outputs": [],
      "source": [
        "fig = plt.figure()\nax = plt.gca()\n\npEXP.plot_xy(mesh, label=label_prop, ax=ax) #, ldg=)\npEXP.plot_ridges_harmonic(dfI,dfII,dfIII,ax=ax,label=True)\n\ndf_fit = dEXP.fit_ridges(D[0:3], rmvOutliers=True) # fit ridges on filtered data\n\npEXP.plot_ridges_sources(df_fit, ax=ax, z_max_source=-max_elevation*2,\n                          ridge_type=[0,1,2],ridge_nb=None)"
      ]
    },
    {
      "cell_type": "markdown",
      "metadata": {},
      "source": [
        "filter ridges using a minimum length criterium and and filter for a specific range of altitude\ndfI_f,dfII_f, dfIII_f = dEXP.filter_ridges(dfI,dfII,dfIII,\n                                            1,maxAlt_ridge,\n                                            minlength=8,rmvNaN=True)\ndf_f = dfI_f, dfII_f, dfIII_f\n\n"
      ]
    },
    {
      "cell_type": "code",
      "execution_count": null,
      "metadata": {
        "collapsed": false
      },
      "outputs": [],
      "source": [
        "D_f = dEXP.filter_ridges(dfI,dfII,dfIII,\n                            minDepth=0,\n                            maxDepth=10000,\n                            minlength=8,\n                            rmvNaN=True,\n                            heights=[hI, hII, hIII])\n\ndfI_f, dfII_f, dfIII_f =  D_f[0:3]\nhI_f, hII_f, hIII_f = D_f[3:6]\ndf_f = D_f[0:3]"
      ]
    },
    {
      "cell_type": "markdown",
      "metadata": {},
      "source": [
        "plot filtered ridges fitted over continuated section\n\n"
      ]
    },
    {
      "cell_type": "code",
      "execution_count": null,
      "metadata": {
        "collapsed": false
      },
      "outputs": [],
      "source": [
        "fig = plt.figure()\nax = plt.gca()\n# plt, cmap = pEXP.plot_xy(mesh, label=label_prop, Xaxis=x_axis, p1p2=np.array([p1, p2]))\n\npEXP.plot_xy(mesh, label=label_prop, ax=ax, Xaxis=x_axis, p1p2=np.array([p1, p2]))\npEXP.plot_ridges_harmonic(dfI_f,dfII_f,dfIII_f,ax=ax,label=True)\n\ndf_fit = dEXP.fit_ridges(df_f, rmvOutliers=True) # fit ridges on filtered data\n\n# pEXP.plot_ridges_sources(df_fit, ax=ax, z_max_source=-max_elevation*2,\n#                           ridge_type=[0,1,2],ridge_nb=None)"
      ]
    },
    {
      "cell_type": "code",
      "execution_count": null,
      "metadata": {
        "collapsed": false
      },
      "outputs": [],
      "source": [
        "qratio = [1,0]\nmesh_dexp, label_dexp = dEXP.dEXP_ratio(xp, yp, zp, U, shape, \n                 zmin=0, zmax=max_elevation, nlayers=nlay, \n                 qorders=qratio)\nfig, ax = plt.subplots(figsize=(15,3))\n\n\nplt, cmap = pEXP.plot_xy(mesh_dexp, label=label_dexp,\n             markerMax=True,qratio=str(qratio), Vminmax = [0,1e-1],\n             p1p2=np.array([p1,p2]), ax=ax, Xaxis=x_axis) #, ldg=)\nplt.colorbar(cmap)\n\nif x_axis=='y':\n    plt.scatter(coord[0,0], coord[0,2],marker=(5, 1),c='red')\n    plt.scatter(coord[1,0], coord[1,2],marker=(5, 1),c='red')\n    # plt.annotate(str(masses),[easting, upward])\nelse:   \n    plt.scatter(coord[0,1], coord[0,2],marker=(5, 1),c='red')\n    plt.scatter(coord[1,1], coord[1,2],marker=(5, 1),c='red')\n    # plt.annotate(str(masses),[northing, upward])"
      ]
    }
  ],
  "metadata": {
    "kernelspec": {
      "display_name": "Python 3",
      "language": "python",
      "name": "python3"
    },
    "language_info": {
      "codemirror_mode": {
        "name": "ipython",
        "version": 3
      },
      "file_extension": ".py",
      "mimetype": "text/x-python",
      "name": "python",
      "nbconvert_exporter": "python",
      "pygments_lexer": "ipython3",
      "version": "3.9.5"
    }
  },
  "nbformat": 4,
  "nbformat_minor": 0
}