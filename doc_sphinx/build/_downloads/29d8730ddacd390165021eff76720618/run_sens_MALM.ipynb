{
  "cells": [
    {
      "cell_type": "code",
      "execution_count": null,
      "metadata": {
        "collapsed": false
      },
      "outputs": [],
      "source": [
        "%matplotlib inline"
      ]
    },
    {
      "cell_type": "markdown",
      "metadata": {},
      "source": [
        "\n# Sensitivity analysis of DEXP to contrast of resistivity on Mise-a-la-masse \n\nThis code shows a step-by-step processing of potential field imaging aiming at giving an estimate of electrical sources positions and depth using the dEXP tranformation method.\ndEXP method implementation from Fedi et al. 2012. \nCalculations used :mod:`dEXP`, while plotting use the :mod:`plot_dEXP` module.\n\nApplication on a anomaly of electrical resistivity.\nThe model data was created using geometric objects from :mod:`pygimli.meshtools`. The forward simulation of the data was done using :mod:`pygimli.ERTsimulate` module.\n\n\n<div class=\"alert alert-info\"><h4>Note</h4><p>This is part of a larger project aiming at inverting current sources density (see more at: https://icsd-dev.readthedocs.io/en/latest/)</p></div>\n\n\n**References**\n\nUieda, L., V. C. Oliveira Jr, and V. C. F. Barbosa (2013), Modeling the Earth with Fatiando a Terra, Proceedings of the 12th Python in Science Conference, pp. 91 - 98.\n\nUieda, L. (2018). Verde: Processing and gridding spatial data using Green's functions. Journal of Open Source Software, 3(29), 957. doi:10.21105/joss.00957\n\nFedi, M., and M. Pilkington (2012), Understanding imaging methods for potential\nfield data, Geophysics, 77(1), G13, doi:10.1190/geo2011-0078.1\n\nRucker, C., Gunther, T., Wagner, F.M., 2017. pyGIMLi: An open-source library for modelling and inversion in geophysics, Computers and Geosciences, 109, 106-123, doi: 10.1016/j.cageo.2017.07.011\n\n\n"
      ]
    },
    {
      "cell_type": "code",
      "execution_count": null,
      "metadata": {
        "collapsed": false
      },
      "outputs": [],
      "source": [
        "from fatiando.vis.mpl import square\nfrom fatiando import gridder\n\n# my own functions\nimport lib.dEXP as dEXP\nimport lib.plot_dEXP as pEXP\nimport lib.set_parameters as para\n\n# exemples\nimport examples.malm.loadmalm.Load_sens_MALM as MALM\n\nimport matplotlib.pyplot as plt\nplt.rcParams['font.size'] = 15\n\nimport numpy as np"
      ]
    },
    {
      "cell_type": "markdown",
      "metadata": {},
      "source": [
        "MALM DATA synthetic anomaly: analysis of sensitivity\n\n"
      ]
    },
    {
      "cell_type": "code",
      "execution_count": null,
      "metadata": {
        "collapsed": false
      },
      "outputs": [],
      "source": [
        "MESH = []\nLABEL = []\nDF_F = []\nDF_FIT = []\nXXZZ = []\nCTm = []\n\nfilenames = ['MSoilR1AnoR1Z-13.75W15H2.5L5S0Noise0',\n              'MSoilR10AnoR1Z-13.75W15H2.5L5S0Noise0',\n              'MSoilR100AnoR1Z-13.75W15H2.5L5S0Noise0',\n              'MSoilR1000AnoR1Z-13.75W15H2.5L5S0Noise0']\n\n# filenames = ['MSoilR1AnoR1Z-13.75W15H2.5L5S0Noise0',\n#               'MSoilR10AnoR1Z-13.75W15H2.5L5S0Noise0']\nx_axis='y'\nfor fi in filenames:\n    print(fi)\n    x_raw, y_raw, z_raw, U_raw, maxdepth, shape_raw, p1, p2, SimName, ano_prop = MALM.load_MALM_sens3d(filename='./loadmalm/' +\n                                                                fi + '.pkl')\n\n    shape = (200,200)\n    xp,yp,U = gridder.interp(x_raw,y_raw,U_raw,shape)\n    \n    \n    parameters = para.set_par(shape=shape,max_elevation=abs(maxdepth))\n    interp = True\n    scaled = parameters[0]\n    SI = parameters[1]\n    zp, qorder, nlay = parameters[2:5]\n    minAlt_ridge, maxAlt_ridge = parameters[5:7]\n    x_axis = 'y'\n\n    #%%\n    # ridges analysis parameters\n    nlay = 25\n    max_elevation = 30\n    minAlt_ridge = max_elevation*0.05\n    maxAlt_ridge = max_elevation*0.65\n    \n    interp = True\n    smooth = False \n    \n    #%%\n    # Anomalies properties\n    # HDWL : height, Depth, Width (x), Lenght (y)\n\n    x1, x2, z1, z2 = [max(x_raw)/2-ano_prop['HWD'][1]/2,max(x_raw)/2 + ano_prop['HWD'][1]/2,\n                    ano_prop['HWD'][2]+ ano_prop['HWD'][0]/2,\n                    ano_prop['HWD'][2]- ano_prop['HWD'][0]/2]\n    xxzz = [x1, x2, z1, z2]\n    CT = ano_prop['SoilR']/ano_prop['AnoR']\n    \n    #%% \n    # Plot the data \n    # pEXP.plot_line(xp, yp, U,p1,p2, interp=interp)\n        \n    #%% \n    # Pad the edges of grids (if necessary)\n    # xp,yp,U, shape = dEXP.pad_edges(xp,yp,U,shape,pad_type=0) # reflexion=5\n    # pEXP.plot_line(xp, yp,U,p1,p2, interp=interp)\n        \n        \n    #%% \n    # Upward continuation of the field data\n    \n    mesh, label_prop = dEXP.upwc(xp, yp, zp, U, shape, \n                     zmin=0, zmax=max_elevation, nlayers=nlay, \n                     qorder=qorder)\n    \n    # plt, cmap = pEXP.plot_xy(mesh, label=label_prop)\n    # plt.colorbar(cmap)\n    \n    \n    #%%\n    # Ridges identification\n    # dEXP.ridges_minmax_plot(xp, yp, mesh, p1, p2,\n    #                                       label=label_prop,\n    #                                       fix_peak_nb=2,\n    #                                       method_peak='find_peaks')  \n    \n    # or  find_peaks or peakdet or spline_roots\n    dfI, dfII, dfIII, ax = dEXP.ridges_minmax(xp, yp, mesh, p1, p2,\n                                          label=label_prop,\n                                          fix_peak_nb=5,\n                                          method_peak='find_peaks',\n                                          showfig=True,\n                                          Xaxis=x_axis)  \n    \n     \n    #%% \n    # Plot ridges over continuated section\n        \n        # fig = plt.figure()\n        # ax = plt.gca()\n        # pEXP.plot_xy(mesh, label=label_prop, ax=ax) #, ldg=)\n        # pEXP.plot_ridges_harmonic(dfI,dfII,dfIII,ax=ax)\n    \n    #%%\n    # Filter ridges (regionally constrainsted)\n    \n    dfI_f,dfII_f, dfIII_f = dEXP.filter_ridges(dfI,dfII,dfIII,\n                                                minDepth=minAlt_ridge,\n                                                maxDepth=maxAlt_ridge,\n                                                minlength=3,rmvNaN=True)\n    df_f = dfI_f, dfII_f, dfIII_f\n    \n    #%%\n    # fit\n    df_fit = dEXP.fit_ridges(df_f, rmvOutliers=True) # fit ridges on filtered data\n\n    #%% \n    # save data loop\n\n    MESH.append(mesh)\n    LABEL.append(label_prop)\n    DF_F.append(df_f)\n    DF_FIT.append(df_fit)\n    XXZZ.append(xxzz)\n    CTm.append(CT)"
      ]
    },
    {
      "cell_type": "markdown",
      "metadata": {},
      "source": [
        "Plot the results\n\n"
      ]
    },
    {
      "cell_type": "code",
      "execution_count": null,
      "metadata": {
        "collapsed": false
      },
      "outputs": [],
      "source": [
        "i = 0\nfig, ax = plt.subplots(figsize=(15,3))\npEXP.plot_xy(MESH[i], label=LABEL[i], ax=ax) #, ldg=)\ndfI_f,dfII_f,dfIII_f = DF_F[i]\npEXP.plot_ridges_harmonic(dfI_f,dfII_f,dfIII_f,ax=ax,label=False)   \npEXP.plot_ridges_sources(DF_FIT[i], ax=ax, z_max_source=-max_elevation*1.2,\n                          ridge_type=[0,1,2],ridge_nb=None)\nx1, x2, z1, z2 = XXZZ[i]\nsquare([x1, x2, z1, z2])\nplt.annotate(CTm[i],[(x1 + x2)/2, (z1+z2)/2])\n\n    \ni = 1\nfig, ax = plt.subplots(figsize=(15,3))\npEXP.plot_xy(MESH[i], label=LABEL[i], ax=ax) #, ldg=)\ndfI_f,dfII_f,dfIII_f = DF_F[i]\npEXP.plot_ridges_harmonic(dfI_f,dfII_f,dfIII_f,ax=ax,label=False)   \npEXP.plot_ridges_sources(DF_FIT[i], ax=ax, z_max_source=-max_elevation*1.2,\n                          ridge_type=[0,1,2],ridge_nb=None)\nx1, x2, z1, z2 = XXZZ[i]\nsquare([x1, x2, z1, z2])\nplt.annotate(CTm[i],[(x1 + x2)/2, (z1+z2)/2])\n\n\ni = 2\nfig, ax = plt.subplots(figsize=(15,3))\npEXP.plot_xy(MESH[i], label=LABEL[i], ax=ax) #, ldg=)\ndfI_f,dfII_f,dfIII_f = DF_F[i]\npEXP.plot_ridges_harmonic(dfI_f,dfII_f,dfIII_f,ax=ax,label=False)   \npEXP.plot_ridges_sources(DF_FIT[i], ax=ax, z_max_source=-max_elevation*1.2,\n                          ridge_type=[0,1,2],ridge_nb=None)\nx1, x2, z1, z2 = XXZZ[i]\nsquare([x1, x2, z1, z2])\nplt.annotate(CTm[i],[(x1 + x2)/2, (z1+z2)/2])\n\n\ni = 3\nfig, ax = plt.subplots(figsize=(15,3))\npEXP.plot_xy(MESH[i], label=LABEL[i], ax=ax) #, ldg=)\ndfI_f,dfII_f,dfIII_f = DF_F[i]\npEXP.plot_ridges_harmonic(dfI_f,dfII_f,dfIII_f,ax=ax,label=False)   \npEXP.plot_ridges_sources(DF_FIT[i], ax=ax, z_max_source=-max_elevation*1.2,\n                          ridge_type=[0,1,2],ridge_nb=None)\nx1, x2, z1, z2 = XXZZ[i]\nsquare([x1, x2, z1, z2])\nplt.annotate(CTm[i],[(x1 + x2)/2, (z1+z2)/2])"
      ]
    }
  ],
  "metadata": {
    "kernelspec": {
      "display_name": "Python 3",
      "language": "python",
      "name": "python3"
    },
    "language_info": {
      "codemirror_mode": {
        "name": "ipython",
        "version": 3
      },
      "file_extension": ".py",
      "mimetype": "text/x-python",
      "name": "python",
      "nbconvert_exporter": "python",
      "pygments_lexer": "ipython3",
      "version": "3.6.13"
    }
  },
  "nbformat": 4,
  "nbformat_minor": 0
}