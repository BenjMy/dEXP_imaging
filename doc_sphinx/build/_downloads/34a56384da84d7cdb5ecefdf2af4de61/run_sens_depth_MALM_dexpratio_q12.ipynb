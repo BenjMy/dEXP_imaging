{
  "cells": [
    {
      "cell_type": "code",
      "execution_count": null,
      "metadata": {
        "collapsed": false
      },
      "outputs": [],
      "source": [
        "%matplotlib inline"
      ]
    },
    {
      "cell_type": "markdown",
      "metadata": {},
      "source": [
        "\n# Sensitivity analysis of DEXP to anomaly depth on Mise-a-la-masse \n\nThis code shows a step-by-step processing of potential field imaging aiming at giving an estimate of electrical sources positions and depth using the dEXP tranformation method.\ndEXP method implementation from Fedi et al. 2012. \nCalculations used :mod:`dEXP`, while plotting use the :mod:`plot_dEXP` module.\n\nApplication on a anomaly of electrical resistivity.\nThe model data was created using geometric objects from :mod:`pygimli.meshtools`. The forward simulation of the data was done using :mod:`pygimli.ERTsimulate` module.\n\n\n<div class=\"alert alert-info\"><h4>Note</h4><p>This is part of a larger project aiming at inverting current sources density (see more at: https://icsd-dev.readthedocs.io/en/latest/)</p></div>\n\n\n**References**\n\nUieda, L., V. C. Oliveira Jr, and V. C. F. Barbosa (2013), Modeling the Earth with Fatiando a Terra, Proceedings of the 12th Python in Science Conference, pp. 91 - 98.\n\nUieda, L. (2018). Verde: Processing and gridding spatial data using Green's functions. Journal of Open Source Software, 3(29), 957. doi:10.21105/joss.00957\n\nFedi, M., and M. Pilkington (2012), Understanding imaging methods for potential\nfield data, Geophysics, 77(1), G13, doi:10.1190/geo2011-0078.1\n\nRucker, C., Gunther, T., Wagner, F.M., 2017. pyGIMLi: An open-source library for modelling and inversion in geophysics, Computers and Geosciences, 109, 106-123, doi: 10.1016/j.cageo.2017.07.011\n\n\n"
      ]
    },
    {
      "cell_type": "code",
      "execution_count": null,
      "metadata": {
        "collapsed": false
      },
      "outputs": [],
      "source": [
        "from fatiando.vis.mpl import square\nfrom fatiando import gridder\n\n# my own functions\nimport lib.dEXP as dEXP\nimport lib.plot_dEXP as pEXP\nimport lib.set_parameters as para\n\n# exemples\nimport examples.malm.loadmalm.Load_sens_MALM as MALM\n\nimport matplotlib.pyplot as plt\nplt.rcParams['font.size'] = 15\n\nimport numpy as np"
      ]
    },
    {
      "cell_type": "markdown",
      "metadata": {},
      "source": [
        "MALM DATA synthetic anomaly: analysis of sensitivity\n\n"
      ]
    },
    {
      "cell_type": "code",
      "execution_count": null,
      "metadata": {
        "collapsed": false
      },
      "outputs": [],
      "source": [
        "MESH = []\nLABEL = []\nMESHratio = []\nLABELratio = []\nDF_F = []\nDF_FIT = []\nXXZZ = []\nCTm = []\nUPW_f_dq_0 = []\nUPW_f_dq_1 = []\n\nfilenames = ['MSoilR1000.0AnoR1Z-3.75L5h2.5',\n              'MSoilR1000.0AnoR1Z-13.75L5h2.5',\n              'MSoilR1000.0AnoR1Z-23.75L5h2.5']\n\n\n\n# import pickle\n# infile = open('./loadmalm/' + filenames[0] + '.pkl','rb')\n# data = pickle.load(infile)\n# infile.close()\n    \n    \n# import pickle\n# filenames = ['MSoilR1000.0AnoR1Z-3.75L5h2.5']\nx_axis='y'\nfor fi in filenames:\n    x_raw, y_raw, z_raw, U_raw, maxdepth, shape_raw, p1, p2, SimName, ano_prop = MALM.load_MALM_sens3d(filename='./loadmalm/' +\n                                                                fi + '.pkl')\n\n    shape = (200,200)\n    xp,yp,U = gridder.interp(x_raw,y_raw,U_raw,shape)\n    \n    \n    parameters = para.set_par(shape=shape,max_elevation=abs(maxdepth))\n    interp = True\n    scaled = parameters[0]\n    SI = parameters[1]\n    zp, qorder, nlay = parameters[2:5]\n    minAlt_ridge, maxAlt_ridge = parameters[5:7]\n    \n    #%%\n    # ridges analysis parameters\n    nlay = 25\n    max_elevation = 30\n    minAlt_ridge = max_elevation*0.05\n    maxAlt_ridge = max_elevation*0.65\n    \n    interp = True\n    smooth = False \n    \n    #%%\n    # Anomalies properties\n    # HDWL : height, Depth, Width (x), Lenght (y)\n\n    x1, x2, z1, z2 = [max(x_raw)/2-ano_prop['HWD'][1]/2,max(x_raw)/2 + ano_prop['HWD'][1]/2,\n                    ano_prop['HWD'][2]+ ano_prop['HWD'][0]/2,\n                    ano_prop['HWD'][2]- ano_prop['HWD'][0]/2]\n    xxzz = [x1, x2, z1, z2]\n    CT = ano_prop['SoilR']/ano_prop['AnoR']\n      \n    #%% \n\n    qratio = [2,1]\n    mesh_ratio, label_ratio, upw_f_dq_0, upw_f_dq_1, weight, upw_f_dq_w  = dEXP.dEXP_ratio(xp, yp, zp, U, shape, \n                                                                              zmin=0, zmax=max_elevation, nlayers=nlay, \n                                                                              qorders=qratio,returnField=True)\n\n    #%% \n    # save data loop\n\n    MESHratio.append(mesh_ratio)\n    UPW_f_dq_0.append(upw_f_dq_0)\n    UPW_f_dq_1.append(upw_f_dq_1)\n    MESHratio.append(mesh_ratio)\n    LABELratio.append(label_ratio)\n    XXZZ.append(xxzz)\n    CTm.append(CT)\n\n\n    ratio = UPW_f_dq_0[0] / UPW_f_dq_1[0]\n    fig, ax = plt.subplots(2,2, sharex=True, sharey=True)\n    pEXP.plot_field(xp, yp, U, shape, ax=ax[0,0])\n    ax[0,0].set_title('Field u')\n    pEXP.plot_field(xp, yp, UPW_f_dq_0[0], shape, ax=ax[0,1])\n    ax[0,1].set_title('Field derivate' + str(qratio[0]))\n    pEXP.plot_field(xp, yp, UPW_f_dq_1[0], shape, ax=ax[1,0])\n    ax[1,0].set_title('Field derivate' + str(qratio[1]))\n    pEXP.plot_field(xp, yp, upw_f_dq_w, shape, ax=ax[1,1])\n    ax[1,1].set_title('Scaled Field ratio')\n    selec_x = list(np.arange(70,200-70))"
      ]
    },
    {
      "cell_type": "markdown",
      "metadata": {},
      "source": [
        "Plot the results\n\n.. important::\n\n    True depth are respectively 3.75, 13.75, 23.75\n\n\n"
      ]
    },
    {
      "cell_type": "code",
      "execution_count": null,
      "metadata": {
        "collapsed": false
      },
      "outputs": [],
      "source": [
        "scl = 0\ni = 0"
      ]
    },
    {
      "cell_type": "code",
      "execution_count": null,
      "metadata": {
        "collapsed": false
      },
      "outputs": [],
      "source": [
        "fig = plt.figure()\nax = plt.gca()\nplt, cmap = pEXP.plot_xy(MESHratio[i],scaled=scl, label=LABELratio[i],\n              markerMax=True,qratio=str(qratio),aspect_equal=True,\n              ax=ax, Xaxis=x_axis,p1p2=np.array([p1,p2]),Vminmax=[-0.4,0.4],\n              regional_cut = selec_x) \n# plt.colorbar(cmap)\nx1, x2, z1, z2 = XXZZ[i]\nsquare([x1, x2, -z1, -z2])\nplt.annotate(CTm[i],[(x1 + x2)/2, -(z1+z2)/2])\n# plt.tight_layout()"
      ]
    },
    {
      "cell_type": "code",
      "execution_count": null,
      "metadata": {
        "collapsed": false
      },
      "outputs": [],
      "source": [
        "i = 1\n\nfig = plt.figure()\nax = plt.gca()\nplt, cmap = pEXP.plot_xy(MESHratio[i],scaled=scl, label=LABELratio[i],\n              markerMax=True,qratio=str(qratio),aspect_equal=True,\n              Vminmax=[-0.4,0.4],\n              ax=ax, Xaxis=x_axis,p1p2=np.array([p1,p2]),\n              regional_cut = selec_x) \n# plt.colorbar(cmap)\nx1, x2, z1, z2 = XXZZ[i]\nsquare([x1, x2, -z1, -z2])\nplt.annotate(CTm[i],[(x1 + x2)/2, -(z1+z2)/2])\n# plt.tight_layout()"
      ]
    },
    {
      "cell_type": "code",
      "execution_count": null,
      "metadata": {
        "collapsed": false
      },
      "outputs": [],
      "source": [
        "i = 2\n\nfig = plt.figure()\nax = plt.gca()\nplt, cmap = pEXP.plot_xy(MESHratio[i], scaled=scl, label=LABELratio[i],\n              markerMax=True,qratio=str(qratio),aspect_equal=True,\n              Vminmax=[-0.4,0.4],\n              ax=ax, Xaxis=x_axis,p1p2=np.array([p1,p2]),\n              regional_cut = selec_x) \n# plt.colorbar(cmap)\n# plt.annotate('True depth is', xy, args, kwargs)()\nx1, x2, z1, z2 = XXZZ[i]\nsquare([x1, x2, -z1, -z2])\nplt.annotate(CTm[i],[(x1 + x2)/2, -(z1+z2)/2])\n# plt.title('23.75m depth anomaly')\n# plt.tight_layout()"
      ]
    }
  ],
  "metadata": {
    "kernelspec": {
      "display_name": "Python 3",
      "language": "python",
      "name": "python3"
    },
    "language_info": {
      "codemirror_mode": {
        "name": "ipython",
        "version": 3
      },
      "file_extension": ".py",
      "mimetype": "text/x-python",
      "name": "python",
      "nbconvert_exporter": "python",
      "pygments_lexer": "ipython3",
      "version": "3.6.13"
    }
  },
  "nbformat": 4,
  "nbformat_minor": 0
}