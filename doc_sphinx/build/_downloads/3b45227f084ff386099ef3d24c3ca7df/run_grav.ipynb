{
  "cells": [
    {
      "cell_type": "code",
      "execution_count": null,
      "metadata": {
        "collapsed": false
      },
      "outputs": [],
      "source": [
        "%matplotlib inline"
      ]
    },
    {
      "cell_type": "markdown",
      "metadata": {},
      "source": [
        "\n# Example of gravimetric potential field data analysis using pyDEXP\n\nThis code shows a step-by-step processing of potential field imaging aiming at giving an estimate of the depth of the anomaly depth using the dEXP tranformation method.\ndEXP method implementation from Fedi et al. 2012. \nCalculations used :mod:`dEXP`, while plotting use the :mod:`plot_dEXP` module.\n\nThe gravimetric model data was created using geometric objects from :mod:`fatiando.mesher`. The forward simulation of the data was done using :mod:`fatiando.gravmag` module.\n\nSources locations:\n    Center of mass = [,,] # xyz coordinates\n    l.w.h = ,,, # length, width, height (in m)\nSources properties: \n    density contrast= ?\n\nImplements the DEXP method described in Fedi and Pilkington (2012). Application on a anomaly of density  (gravimetry).\n\n<div class=\"alert alert-info\"><h4>Note</h4><p>This is part of a larger project aiming at inverting current sources density (see more at: https://icsd-dev.readthedocs.io/en/latest/)</p></div>\n\n\n**References**\n\nUieda, L., V. C. Oliveira Jr, and V. C. F. Barbosa (2013), Modeling the Earth with Fatiando a Terra, Proceedings of the 12th Python in Science Conference, pp. 91 - 98.\n\nUieda, L. (2018). Verde: Processing and gridding spatial data using Green's functions. Journal of Open Source Software, 3(29), 957. doi:10.21105/joss.00957\n\nFedi, M., and M. Pilkington (2012), Understanding imaging methods for potential\nfield data, Geophysics, 77(1), G13, doi:10.1190/geo2011-0078.1\n\n----\n"
      ]
    },
    {
      "cell_type": "code",
      "execution_count": null,
      "metadata": {
        "collapsed": false
      },
      "outputs": [],
      "source": [
        "import os\n\nfrom fatiando.vis import mpl #, myv\nfrom fatiando import gridder, mesher, utils\nfrom fatiando.gravmag import prism, imaging, transform\nfrom fatiando.vis.mpl import square\n\n# my own functions\nimport lib.dEXP as dEXP\nfrom lib.dEXP import _fit\nimport lib.plot_dEXP as pEXP\nimport lib.set_parameters as para\n\n# exemples\nimport examples.gravimetry.loadgrav.grav_models as grav\n\nimport numpy as np\nimport matplotlib.pyplot as plt\nfrom matplotlib import ticker\n\nplt.rcParams['font.size'] = 15"
      ]
    },
    {
      "cell_type": "markdown",
      "metadata": {},
      "source": [
        "load model previously generated using Fatiando a terra package\n\n"
      ]
    },
    {
      "cell_type": "code",
      "execution_count": null,
      "metadata": {
        "collapsed": false
      },
      "outputs": [],
      "source": [
        "os.getcwd()\ndata_struct = grav.load_grav_fatiando(name='loadgrav/za3000_zb3500_l500_ofs0_dens1200.pkl')\n\nxp,yp,zp,U = data_struct['xyzg']\nshape = data_struct['shape']\nmodel = data_struct['model']\ndens  = data_struct['density']\n# scaled, SI, zp, qorder, nlay, minAlt_ridge, maxAlt_ridge = para.set_par(shape=shape,max_elevation=max_elevation)\n\nx1, x2, y1, y2, z1, z2 = np.array(model[0].get_bounds())\n\np1 =[min(yp),0]\np2 =[max(yp),0]\n\nmax_elevation=z2*1.2\nscaled, SI, zp, qorder, nlay, minAlt_ridge, maxAlt_ridge = para.set_par(shape=shape,max_elevation=max_elevation)\ninterp = True\nqorder = 0\n\nx_axis='y'"
      ]
    },
    {
      "cell_type": "markdown",
      "metadata": {},
      "source": [
        "Plot the data \n\n"
      ]
    },
    {
      "cell_type": "code",
      "execution_count": null,
      "metadata": {
        "collapsed": false
      },
      "outputs": [],
      "source": [
        "pEXP.plot_line(xp, yp, U,p1,p2, interp=interp,Xaxis=x_axis)"
      ]
    },
    {
      "cell_type": "markdown",
      "metadata": {},
      "source": [
        "Pad the edges of grids (if necessary)\n\n"
      ]
    },
    {
      "cell_type": "code",
      "execution_count": null,
      "metadata": {
        "collapsed": false
      },
      "outputs": [],
      "source": [
        "# xp,yp,U, shape = dEXP.pad_edges(xp,yp,U,shape,pad_type=0) # reflexion=5\n# p1 =[min(yp),0]\n# p2 =[max(yp),0]\n\nxx, yy, distance, profile, ax, plt = pEXP.plot_line(xp, yp,U,p1,p2, interp=interp,Xaxis=x_axis)"
      ]
    },
    {
      "cell_type": "code",
      "execution_count": null,
      "metadata": {
        "collapsed": false
      },
      "outputs": [],
      "source": [
        "# p1 =[0,-6000]\n# p2 =[0,6000]\n\nzderiv = transform.derivz(xp, yp, U, shape,order=1)\nxx, yy, distance, dz, ax, plt = pEXP.plot_line(xp, yp, zderiv, p1,p2, interp=True, title='zderiv',Xaxis=x_axis)"
      ]
    },
    {
      "cell_type": "code",
      "execution_count": null,
      "metadata": {
        "collapsed": false
      },
      "outputs": [],
      "source": [
        "# Plot field against its 1st vertical derivative\n\nfig, ax1 = plt.subplots(figsize=(10,4))\n\ncolor = 'tab:red'\nax1.set_xlabel('x(m)')\nax1.set_ylabel('Amplitude of the\\n potential field (V)', color=color)\nax1.plot(xx, profile, color=color, linewidth=2)\nax1.tick_params(axis='y', labelcolor=color)\nax1.set_ylim([0,.5])\n\nax2 = ax1.twinx()  # instantiate a second axes that shares the same x-axis\n\ncolor = 'tab:blue'\nax2.set_ylabel('$1^{st}$ derivative\\n($V.m^2$)', color=color)  # we already handled the x-label with ax1\nax2.plot(xx, dz, color=color, linewidth=2)\nax2.tick_params(axis='y', labelcolor=color)\n# ax2.set_ylim([-0.0001,3e-4])\nax2.yaxis.set_major_formatter(ticker.FormatStrFormatter('%1.0e'))\nax2.set_xlim([-5000,5000])\n\nfig.tight_layout()  # otherwise the right y-label is slightly clipped\n# ax2.set_aspect(aspect=1e-2)"
      ]
    },
    {
      "cell_type": "markdown",
      "metadata": {},
      "source": [
        "Upward continuation of the field data\n\n"
      ]
    },
    {
      "cell_type": "code",
      "execution_count": null,
      "metadata": {
        "collapsed": false
      },
      "outputs": [],
      "source": [
        "mesh, label_prop = dEXP.upwc(xp, yp, zp, U, shape, \n                 zmin=0, zmax=max_elevation, nlayers=nlay, \n                 qorder=qorder)\n\nplt, cmap = pEXP.plot_xy(mesh, label=label_prop,Xaxis=x_axis)\nplt.colorbar(cmap)"
      ]
    },
    {
      "cell_type": "markdown",
      "metadata": {},
      "source": [
        "ridges identification\ndEXP.ridges_minmax_plot(xp, yp, mesh, p1, p2,\n                                      label=label_prop,\n                                      fix_peak_nb=2,\n                                      method_peak='find_peaks')  \n\n"
      ]
    },
    {
      "cell_type": "code",
      "execution_count": null,
      "metadata": {
        "collapsed": false
      },
      "outputs": [],
      "source": [
        "# or  find_peaks or peakdet or spline_roots\ndfI,dfII, dfIII, _  = dEXP.ridges_minmax(xp, yp, mesh, p1, p2,\n                                      label=label_prop,\n                                      fix_peak_nb=2,\n                                      method_peak='find_peaks',\n                                      showfig=True,\n                                      Xaxis=x_axis)"
      ]
    },
    {
      "cell_type": "markdown",
      "metadata": {},
      "source": [
        "Plot ridges over continuated section\n\n"
      ]
    },
    {
      "cell_type": "code",
      "execution_count": null,
      "metadata": {
        "collapsed": false
      },
      "outputs": [],
      "source": [
        "fig = plt.figure()\nax = plt.gca()\npEXP.plot_xy(mesh, label=label_prop, ax=ax, Xaxis=x_axis)\npEXP.plot_ridges_harmonic(dfI,dfII,dfIII,ax=ax)"
      ]
    },
    {
      "cell_type": "markdown",
      "metadata": {},
      "source": [
        "Filter ridges regionally constrainsted)\n\n"
      ]
    },
    {
      "cell_type": "code",
      "execution_count": null,
      "metadata": {
        "collapsed": false
      },
      "outputs": [],
      "source": [
        "dfI_f,dfII_f, dfIII_f = dEXP.filter_ridges(dfI,dfII,dfIII,\n                                            minDepth=1000,\n                                            maxDepth=3000,\n                                            minlength=3,rmvNaN=True)\ndf_f = dfI_f, dfII_f, dfIII_f\n# df_f = dfI, dfII, dfIII"
      ]
    },
    {
      "cell_type": "markdown",
      "metadata": {},
      "source": [
        "Plot ridges fitted over continuated section\n\n"
      ]
    },
    {
      "cell_type": "code",
      "execution_count": null,
      "metadata": {
        "collapsed": false
      },
      "outputs": [],
      "source": [
        "fig = plt.figure()\nax = plt.gca()\n\npEXP.plot_xy(mesh, label=label_prop, ax=ax) #, ldg=)\npEXP.plot_ridges_harmonic(dfI_f,dfII_f,dfIII_f,ax=ax,label=True)\n\ndf_fit = dEXP.fit_ridges(df_f, rmvOutliers=True) # fit ridges on filtered data\n\n# pEXP.plot_ridges_sources(df_fit, ax=ax, z_max_source=-max_elevation*1.2,\n#                           ridge_type=[0,1,2],ridge_nb=None)\npEXP.plot_ridges_sources(df_fit, ax=ax, z_max_source=-6000,\n                          ridge_type=[0,1,2],ridge_nb=None)\nsquare([x1, x2, -z1, -z2])\nplt.annotate(dens,[(x1 + x2)/2, -(z1+z2)/2])"
      ]
    },
    {
      "cell_type": "markdown",
      "metadata": {},
      "source": [
        "ridges analysis\n\n"
      ]
    },
    {
      "cell_type": "code",
      "execution_count": null,
      "metadata": {
        "collapsed": false
      },
      "outputs": [],
      "source": [
        "#z0 = -2000\n#points, fit, SI, EXTnb = dEXP.scalFUN(dfI_f,EXTnb=[1],z0=z0)\n#pEXP.plot_scalFUN(points, fit, z0=z0)\n\n\n# z0 = -2000\n# points, fit, SI, EXTnb = dEXP.scalFUN(dfI_f,EXTnb=[3],z0=z0)\n# pEXP.plot_scalFUN(points, fit, z0=z0)"
      ]
    },
    {
      "cell_type": "markdown",
      "metadata": {},
      "source": [
        "ridges analysis\n\n"
      ]
    },
    {
      "cell_type": "code",
      "execution_count": null,
      "metadata": {
        "collapsed": false
      },
      "outputs": [],
      "source": [
        "mesh_dexp, label_dexp = dEXP.dEXP(xp, yp, zp, U, shape, \n                 zmin=0, zmax=max_elevation, nlayers=nlay, \n                 qorder=qorder,\n                 SI=SI)\n\nfig = plt.figure()\nax = plt.gca()\n\npEXP.plot_xy(mesh_dexp, label=label_dexp,markerMax=True, SI=SI,\n             p1p2=np.array([p1,p2]), ax=ax) #, ldg=)\nsquare([x1, x2, -z1, -z2])\nplt.annotate(dens,[(x1 + x2)/2, -(z1+z2)/2])"
      ]
    }
  ],
  "metadata": {
    "kernelspec": {
      "display_name": "Python 3",
      "language": "python",
      "name": "python3"
    },
    "language_info": {
      "codemirror_mode": {
        "name": "ipython",
        "version": 3
      },
      "file_extension": ".py",
      "mimetype": "text/x-python",
      "name": "python",
      "nbconvert_exporter": "python",
      "pygments_lexer": "ipython3",
      "version": "3.9.5"
    }
  },
  "nbformat": 4,
  "nbformat_minor": 0
}