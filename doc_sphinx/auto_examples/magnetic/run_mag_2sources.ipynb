{
  "cells": [
    {
      "cell_type": "code",
      "execution_count": null,
      "metadata": {
        "collapsed": false
      },
      "outputs": [],
      "source": [
        "%matplotlib inline"
      ]
    },
    {
      "cell_type": "markdown",
      "metadata": {},
      "source": [
        "\n# Magnetic field data analysis using pyDEXP: a 2-sources case\n\nThis code shows a step-by-step processing of potential field imaging aiming at giving an estimate of magnetic sources positions and depth using the dEXP tranformation method.\ndEXP method implementation from Fedi et al. 2012. \nCalculations used :mod:`dEXP`, while plotting use the :mod:`plot_dEXP` module.\n\nThe model data was created using geometric objects from :mod:`fatiando.mesher`. The forward simulation of the data was done using :mod:`fatiando.gravmag` module.\n\nSources locations:\n    - S_{A} = [10e3,10e3,2e3] # xyz coordinates\n    - S_{B} = [25e3,10e3,1e3]\n\nSources properties: \n    - radius = 1.5e3\n    - inc = 50\n    - dec = -30\n\n<div class=\"alert alert-info\"><h4>Note</h4><p>This is part of a larger project aiming at inverting current sources density (see more at: https://icsd-dev.readthedocs.io/en/latest/)</p></div>\n\n**References**\n\nUieda, L., V. C. Oliveira Jr, and V. C. F. Barbosa (2013), Modeling the Earth with Fatiando a Terra, Proceedings of the 12th Python in Science Conference, pp. 91 - 98.\n\nUieda, L. (2018). Verde: Processing and gridding spatial data using Green's functions. Journal of Open Source Software, 3(29), 957. doi:10.21105/joss.00957\n\nFedi, M., and M. Pilkington (2012), Understanding imaging methods for potential\nfield data, Geophysics, 77(1), G13, doi:10.1190/geo2011-0078.1\n"
      ]
    },
    {
      "cell_type": "code",
      "execution_count": null,
      "metadata": {
        "collapsed": false
      },
      "outputs": [],
      "source": [
        "import matplotlib.pyplot as plt\nimport numpy as np\nimport lib.dEXP as dEXP\nfrom lib.dEXP import _fit\nimport lib.plot_dEXP as pEXP\nimport lib.set_parameters as para\nimport examples.magnetic.fwdmag.fwd_mag_sphere as magfwd"
      ]
    },
    {
      "cell_type": "markdown",
      "metadata": {},
      "source": [
        "Create a model using geometric objects from fatiando.mesher\n\n"
      ]
    },
    {
      "cell_type": "code",
      "execution_count": null,
      "metadata": {
        "collapsed": false
      },
      "outputs": [],
      "source": [
        "xp, yp, zp, U, shape, p1, p2, coord= magfwd.load_mag_synthetic()\nmax_elevation=2*max(coord[:,2])\nscaled, SI, zp, qorder, nlay, minAlt_ridge, maxAlt_ridge = para.set_par(shape=shape,max_elevation=max_elevation)\ninterp = True\nx_axis='y'"
      ]
    },
    {
      "cell_type": "markdown",
      "metadata": {},
      "source": [
        "Plot field data over a 2d line crossing the anomalies\n\n"
      ]
    },
    {
      "cell_type": "code",
      "execution_count": null,
      "metadata": {
        "collapsed": false
      },
      "outputs": [],
      "source": [
        "pEXP.plot_line(xp, yp, U,p1,p2, interp=interp,Xaxis=x_axis)"
      ]
    },
    {
      "cell_type": "markdown",
      "metadata": {},
      "source": [
        "Upward continuation of the field data with discretisation in altitude controlled by the number of layers (nlay) and the maximum elevation desired (max_elevation)\n\n"
      ]
    },
    {
      "cell_type": "code",
      "execution_count": null,
      "metadata": {
        "collapsed": false
      },
      "outputs": [],
      "source": [
        "mesh, label_prop = dEXP.upwc(xp, yp, zp, U, shape, \n                 zmin=0, zmax=max_elevation, nlayers=nlay, \n                 qorder=qorder)\n\nplt, cmap = pEXP.plot_xy(mesh, label=label_prop,Xaxis=x_axis)\nplt.colorbar(cmap)"
      ]
    },
    {
      "cell_type": "markdown",
      "metadata": {},
      "source": [
        "Ridges identification: plot all extremas obtained via find_peaks function (numpy) for a given altitude\n\n"
      ]
    },
    {
      "cell_type": "code",
      "execution_count": null,
      "metadata": {
        "collapsed": false
      },
      "outputs": [],
      "source": [
        "dEXP.ridges_minmax_plot(xp, yp, mesh, p1, p2,\n                                      label=label_prop,\n                                      method_peak='find_peaks',\n                                      fix_peak_nb=5,\n                                      Xaxis=x_axis,\n                                      showfig=True)"
      ]
    },
    {
      "cell_type": "markdown",
      "metadata": {},
      "source": [
        "Ridges identification at all levels: plot extremas obtained via find_peaks function (numpy) for all 3 types of extremas familly RI, RII and RIII\n\n"
      ]
    },
    {
      "cell_type": "code",
      "execution_count": null,
      "metadata": {
        "collapsed": false
      },
      "outputs": [],
      "source": [
        "dfI,dfII, dfIII, _ = dEXP.ridges_minmax(xp, yp, mesh, p1, p2,\n                                      label=label_prop,\n                                      method_peak='find_peaks',\n                                      fix_peak_nb=5,\n                                      Xaxis=x_axis,\n                                      showfig=True)"
      ]
    },
    {
      "cell_type": "markdown",
      "metadata": {},
      "source": [
        "filter ridges using a minimum length criterium and and filter for a specific range of altitude\n\n"
      ]
    },
    {
      "cell_type": "code",
      "execution_count": null,
      "metadata": {
        "collapsed": false
      },
      "outputs": [],
      "source": [
        "dfI_f,dfII_f, dfIII_f = dEXP.filter_ridges(dfI,dfII,dfIII,\n                                            1,maxAlt_ridge,\n                                            minlength=8,rmvNaN=True)\ndf_f = dfI_f, dfII_f, dfIII_f"
      ]
    },
    {
      "cell_type": "markdown",
      "metadata": {},
      "source": [
        "plot filtered ridges fitted over continuated section\n\n"
      ]
    },
    {
      "cell_type": "code",
      "execution_count": null,
      "metadata": {
        "collapsed": false
      },
      "outputs": [],
      "source": [
        "fig, ax = plt.subplots(figsize=(15,3))\npEXP.plot_xy(mesh, label=label_prop, ax=ax) #, ldg=)\npEXP.plot_ridges_harmonic(dfI_f,dfII_f,dfIII_f,ax=ax,label=False)   \ndf_fit = dEXP.fit_ridges(df_f) # fit ridges on filtered data\n\npEXP.plot_ridges_sources(df_fit, ax=ax, z_max_source=-max_elevation*1.2,\n                          ridge_type=[0,1,2],ridge_nb=None)"
      ]
    }
  ],
  "metadata": {
    "kernelspec": {
      "display_name": "Python 3",
      "language": "python",
      "name": "python3"
    },
    "language_info": {
      "codemirror_mode": {
        "name": "ipython",
        "version": 3
      },
      "file_extension": ".py",
      "mimetype": "text/x-python",
      "name": "python",
      "nbconvert_exporter": "python",
      "pygments_lexer": "ipython3",
      "version": "3.9.5"
    }
  },
  "nbformat": 4,
  "nbformat_minor": 0
}